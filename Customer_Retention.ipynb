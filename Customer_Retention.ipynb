{
 "cells": [
  {
   "cell_type": "code",
   "execution_count": 1,
   "metadata": {},
   "outputs": [],
   "source": [
    "import pandas as pd\n",
    "import numpy as np\n",
    "import matplotlib.pyplot as plt\n",
    "import seaborn as sns\n",
    "from sklearn import preprocessing\n"
   ]
  },
  {
   "cell_type": "markdown",
   "metadata": {},
   "source": [
    "# Data Preprocessing"
   ]
  },
  {
   "cell_type": "code",
   "execution_count": 2,
   "metadata": {},
   "outputs": [
    {
     "data": {
      "text/html": [
       "<div>\n",
       "<style scoped>\n",
       "    .dataframe tbody tr th:only-of-type {\n",
       "        vertical-align: middle;\n",
       "    }\n",
       "\n",
       "    .dataframe tbody tr th {\n",
       "        vertical-align: top;\n",
       "    }\n",
       "\n",
       "    .dataframe thead th {\n",
       "        text-align: right;\n",
       "    }\n",
       "</style>\n",
       "<table border=\"1\" class=\"dataframe\">\n",
       "  <thead>\n",
       "    <tr style=\"text-align: right;\">\n",
       "      <th></th>\n",
       "      <th>customerID</th>\n",
       "      <th>gender</th>\n",
       "      <th>SeniorCitizen</th>\n",
       "      <th>Partner</th>\n",
       "      <th>Dependents</th>\n",
       "      <th>tenure</th>\n",
       "      <th>PhoneService</th>\n",
       "      <th>MultipleLines</th>\n",
       "      <th>InternetService</th>\n",
       "      <th>OnlineSecurity</th>\n",
       "      <th>...</th>\n",
       "      <th>StreamingTV</th>\n",
       "      <th>StreamingMovies</th>\n",
       "      <th>Contract</th>\n",
       "      <th>PaperlessBilling</th>\n",
       "      <th>PaymentMethod</th>\n",
       "      <th>MonthlyCharges</th>\n",
       "      <th>TotalCharges</th>\n",
       "      <th>numAdminTickets</th>\n",
       "      <th>numTechTickets</th>\n",
       "      <th>Churn</th>\n",
       "    </tr>\n",
       "  </thead>\n",
       "  <tbody>\n",
       "    <tr>\n",
       "      <th>0</th>\n",
       "      <td>7590-VHVEG</td>\n",
       "      <td>Female</td>\n",
       "      <td>0</td>\n",
       "      <td>Yes</td>\n",
       "      <td>No</td>\n",
       "      <td>1</td>\n",
       "      <td>No</td>\n",
       "      <td>No phone service</td>\n",
       "      <td>DSL</td>\n",
       "      <td>No</td>\n",
       "      <td>...</td>\n",
       "      <td>No</td>\n",
       "      <td>No</td>\n",
       "      <td>Month-to-month</td>\n",
       "      <td>Yes</td>\n",
       "      <td>Electronic check</td>\n",
       "      <td>29.85</td>\n",
       "      <td>29.85</td>\n",
       "      <td>0</td>\n",
       "      <td>0</td>\n",
       "      <td>No</td>\n",
       "    </tr>\n",
       "    <tr>\n",
       "      <th>1</th>\n",
       "      <td>5575-GNVDE</td>\n",
       "      <td>Male</td>\n",
       "      <td>0</td>\n",
       "      <td>No</td>\n",
       "      <td>No</td>\n",
       "      <td>34</td>\n",
       "      <td>Yes</td>\n",
       "      <td>No</td>\n",
       "      <td>DSL</td>\n",
       "      <td>Yes</td>\n",
       "      <td>...</td>\n",
       "      <td>No</td>\n",
       "      <td>No</td>\n",
       "      <td>One year</td>\n",
       "      <td>No</td>\n",
       "      <td>Mailed check</td>\n",
       "      <td>56.95</td>\n",
       "      <td>1889.5</td>\n",
       "      <td>0</td>\n",
       "      <td>0</td>\n",
       "      <td>No</td>\n",
       "    </tr>\n",
       "    <tr>\n",
       "      <th>2</th>\n",
       "      <td>3668-QPYBK</td>\n",
       "      <td>Male</td>\n",
       "      <td>0</td>\n",
       "      <td>No</td>\n",
       "      <td>No</td>\n",
       "      <td>2</td>\n",
       "      <td>Yes</td>\n",
       "      <td>No</td>\n",
       "      <td>DSL</td>\n",
       "      <td>Yes</td>\n",
       "      <td>...</td>\n",
       "      <td>No</td>\n",
       "      <td>No</td>\n",
       "      <td>Month-to-month</td>\n",
       "      <td>Yes</td>\n",
       "      <td>Mailed check</td>\n",
       "      <td>53.85</td>\n",
       "      <td>108.15</td>\n",
       "      <td>0</td>\n",
       "      <td>0</td>\n",
       "      <td>Yes</td>\n",
       "    </tr>\n",
       "    <tr>\n",
       "      <th>3</th>\n",
       "      <td>7795-CFOCW</td>\n",
       "      <td>Male</td>\n",
       "      <td>0</td>\n",
       "      <td>No</td>\n",
       "      <td>No</td>\n",
       "      <td>45</td>\n",
       "      <td>No</td>\n",
       "      <td>No phone service</td>\n",
       "      <td>DSL</td>\n",
       "      <td>Yes</td>\n",
       "      <td>...</td>\n",
       "      <td>No</td>\n",
       "      <td>No</td>\n",
       "      <td>One year</td>\n",
       "      <td>No</td>\n",
       "      <td>Bank transfer (automatic)</td>\n",
       "      <td>42.30</td>\n",
       "      <td>1840.75</td>\n",
       "      <td>0</td>\n",
       "      <td>3</td>\n",
       "      <td>No</td>\n",
       "    </tr>\n",
       "    <tr>\n",
       "      <th>4</th>\n",
       "      <td>9237-HQITU</td>\n",
       "      <td>Female</td>\n",
       "      <td>0</td>\n",
       "      <td>No</td>\n",
       "      <td>No</td>\n",
       "      <td>2</td>\n",
       "      <td>Yes</td>\n",
       "      <td>No</td>\n",
       "      <td>Fiber optic</td>\n",
       "      <td>No</td>\n",
       "      <td>...</td>\n",
       "      <td>No</td>\n",
       "      <td>No</td>\n",
       "      <td>Month-to-month</td>\n",
       "      <td>Yes</td>\n",
       "      <td>Electronic check</td>\n",
       "      <td>70.70</td>\n",
       "      <td>151.65</td>\n",
       "      <td>0</td>\n",
       "      <td>0</td>\n",
       "      <td>Yes</td>\n",
       "    </tr>\n",
       "    <tr>\n",
       "      <th>...</th>\n",
       "      <td>...</td>\n",
       "      <td>...</td>\n",
       "      <td>...</td>\n",
       "      <td>...</td>\n",
       "      <td>...</td>\n",
       "      <td>...</td>\n",
       "      <td>...</td>\n",
       "      <td>...</td>\n",
       "      <td>...</td>\n",
       "      <td>...</td>\n",
       "      <td>...</td>\n",
       "      <td>...</td>\n",
       "      <td>...</td>\n",
       "      <td>...</td>\n",
       "      <td>...</td>\n",
       "      <td>...</td>\n",
       "      <td>...</td>\n",
       "      <td>...</td>\n",
       "      <td>...</td>\n",
       "      <td>...</td>\n",
       "      <td>...</td>\n",
       "    </tr>\n",
       "    <tr>\n",
       "      <th>7038</th>\n",
       "      <td>6840-RESVB</td>\n",
       "      <td>Male</td>\n",
       "      <td>0</td>\n",
       "      <td>Yes</td>\n",
       "      <td>Yes</td>\n",
       "      <td>24</td>\n",
       "      <td>Yes</td>\n",
       "      <td>Yes</td>\n",
       "      <td>DSL</td>\n",
       "      <td>Yes</td>\n",
       "      <td>...</td>\n",
       "      <td>Yes</td>\n",
       "      <td>Yes</td>\n",
       "      <td>One year</td>\n",
       "      <td>Yes</td>\n",
       "      <td>Mailed check</td>\n",
       "      <td>84.80</td>\n",
       "      <td>1990.5</td>\n",
       "      <td>0</td>\n",
       "      <td>0</td>\n",
       "      <td>No</td>\n",
       "    </tr>\n",
       "    <tr>\n",
       "      <th>7039</th>\n",
       "      <td>2234-XADUH</td>\n",
       "      <td>Female</td>\n",
       "      <td>0</td>\n",
       "      <td>Yes</td>\n",
       "      <td>Yes</td>\n",
       "      <td>72</td>\n",
       "      <td>Yes</td>\n",
       "      <td>Yes</td>\n",
       "      <td>Fiber optic</td>\n",
       "      <td>No</td>\n",
       "      <td>...</td>\n",
       "      <td>Yes</td>\n",
       "      <td>Yes</td>\n",
       "      <td>One year</td>\n",
       "      <td>Yes</td>\n",
       "      <td>Credit card (automatic)</td>\n",
       "      <td>103.20</td>\n",
       "      <td>7362.9</td>\n",
       "      <td>0</td>\n",
       "      <td>5</td>\n",
       "      <td>No</td>\n",
       "    </tr>\n",
       "    <tr>\n",
       "      <th>7040</th>\n",
       "      <td>4801-JZAZL</td>\n",
       "      <td>Female</td>\n",
       "      <td>0</td>\n",
       "      <td>Yes</td>\n",
       "      <td>Yes</td>\n",
       "      <td>11</td>\n",
       "      <td>No</td>\n",
       "      <td>No phone service</td>\n",
       "      <td>DSL</td>\n",
       "      <td>Yes</td>\n",
       "      <td>...</td>\n",
       "      <td>No</td>\n",
       "      <td>No</td>\n",
       "      <td>Month-to-month</td>\n",
       "      <td>Yes</td>\n",
       "      <td>Electronic check</td>\n",
       "      <td>29.60</td>\n",
       "      <td>346.45</td>\n",
       "      <td>0</td>\n",
       "      <td>0</td>\n",
       "      <td>No</td>\n",
       "    </tr>\n",
       "    <tr>\n",
       "      <th>7041</th>\n",
       "      <td>8361-LTMKD</td>\n",
       "      <td>Male</td>\n",
       "      <td>1</td>\n",
       "      <td>Yes</td>\n",
       "      <td>No</td>\n",
       "      <td>4</td>\n",
       "      <td>Yes</td>\n",
       "      <td>Yes</td>\n",
       "      <td>Fiber optic</td>\n",
       "      <td>No</td>\n",
       "      <td>...</td>\n",
       "      <td>No</td>\n",
       "      <td>No</td>\n",
       "      <td>Month-to-month</td>\n",
       "      <td>Yes</td>\n",
       "      <td>Mailed check</td>\n",
       "      <td>74.40</td>\n",
       "      <td>306.6</td>\n",
       "      <td>0</td>\n",
       "      <td>0</td>\n",
       "      <td>Yes</td>\n",
       "    </tr>\n",
       "    <tr>\n",
       "      <th>7042</th>\n",
       "      <td>3186-AJIEK</td>\n",
       "      <td>Male</td>\n",
       "      <td>0</td>\n",
       "      <td>No</td>\n",
       "      <td>No</td>\n",
       "      <td>66</td>\n",
       "      <td>Yes</td>\n",
       "      <td>No</td>\n",
       "      <td>Fiber optic</td>\n",
       "      <td>Yes</td>\n",
       "      <td>...</td>\n",
       "      <td>Yes</td>\n",
       "      <td>Yes</td>\n",
       "      <td>Two year</td>\n",
       "      <td>Yes</td>\n",
       "      <td>Bank transfer (automatic)</td>\n",
       "      <td>105.65</td>\n",
       "      <td>6844.5</td>\n",
       "      <td>2</td>\n",
       "      <td>0</td>\n",
       "      <td>No</td>\n",
       "    </tr>\n",
       "  </tbody>\n",
       "</table>\n",
       "<p>7043 rows × 23 columns</p>\n",
       "</div>"
      ],
      "text/plain": [
       "      customerID  gender  SeniorCitizen Partner Dependents  tenure  \\\n",
       "0     7590-VHVEG  Female              0     Yes         No       1   \n",
       "1     5575-GNVDE    Male              0      No         No      34   \n",
       "2     3668-QPYBK    Male              0      No         No       2   \n",
       "3     7795-CFOCW    Male              0      No         No      45   \n",
       "4     9237-HQITU  Female              0      No         No       2   \n",
       "...          ...     ...            ...     ...        ...     ...   \n",
       "7038  6840-RESVB    Male              0     Yes        Yes      24   \n",
       "7039  2234-XADUH  Female              0     Yes        Yes      72   \n",
       "7040  4801-JZAZL  Female              0     Yes        Yes      11   \n",
       "7041  8361-LTMKD    Male              1     Yes         No       4   \n",
       "7042  3186-AJIEK    Male              0      No         No      66   \n",
       "\n",
       "     PhoneService     MultipleLines InternetService OnlineSecurity  ...  \\\n",
       "0              No  No phone service             DSL             No  ...   \n",
       "1             Yes                No             DSL            Yes  ...   \n",
       "2             Yes                No             DSL            Yes  ...   \n",
       "3              No  No phone service             DSL            Yes  ...   \n",
       "4             Yes                No     Fiber optic             No  ...   \n",
       "...           ...               ...             ...            ...  ...   \n",
       "7038          Yes               Yes             DSL            Yes  ...   \n",
       "7039          Yes               Yes     Fiber optic             No  ...   \n",
       "7040           No  No phone service             DSL            Yes  ...   \n",
       "7041          Yes               Yes     Fiber optic             No  ...   \n",
       "7042          Yes                No     Fiber optic            Yes  ...   \n",
       "\n",
       "     StreamingTV StreamingMovies        Contract PaperlessBilling  \\\n",
       "0             No              No  Month-to-month              Yes   \n",
       "1             No              No        One year               No   \n",
       "2             No              No  Month-to-month              Yes   \n",
       "3             No              No        One year               No   \n",
       "4             No              No  Month-to-month              Yes   \n",
       "...          ...             ...             ...              ...   \n",
       "7038         Yes             Yes        One year              Yes   \n",
       "7039         Yes             Yes        One year              Yes   \n",
       "7040          No              No  Month-to-month              Yes   \n",
       "7041          No              No  Month-to-month              Yes   \n",
       "7042         Yes             Yes        Two year              Yes   \n",
       "\n",
       "                  PaymentMethod MonthlyCharges TotalCharges numAdminTickets  \\\n",
       "0              Electronic check          29.85        29.85               0   \n",
       "1                  Mailed check          56.95       1889.5               0   \n",
       "2                  Mailed check          53.85       108.15               0   \n",
       "3     Bank transfer (automatic)          42.30      1840.75               0   \n",
       "4              Electronic check          70.70       151.65               0   \n",
       "...                         ...            ...          ...             ...   \n",
       "7038               Mailed check          84.80       1990.5               0   \n",
       "7039    Credit card (automatic)         103.20       7362.9               0   \n",
       "7040           Electronic check          29.60       346.45               0   \n",
       "7041               Mailed check          74.40        306.6               0   \n",
       "7042  Bank transfer (automatic)         105.65       6844.5               2   \n",
       "\n",
       "      numTechTickets Churn  \n",
       "0                  0    No  \n",
       "1                  0    No  \n",
       "2                  0   Yes  \n",
       "3                  3    No  \n",
       "4                  0   Yes  \n",
       "...              ...   ...  \n",
       "7038               0    No  \n",
       "7039               5    No  \n",
       "7040               0    No  \n",
       "7041               0   Yes  \n",
       "7042               0    No  \n",
       "\n",
       "[7043 rows x 23 columns]"
      ]
     },
     "execution_count": 2,
     "metadata": {},
     "output_type": "execute_result"
    }
   ],
   "source": [
    "df = pd.read_excel(\"02 Churn-Dataset.xlsx\")\n",
    "df"
   ]
  },
  {
   "cell_type": "code",
   "execution_count": 3,
   "metadata": {},
   "outputs": [
    {
     "name": "stdout",
     "output_type": "stream",
     "text": [
      "<class 'pandas.core.frame.DataFrame'>\n",
      "RangeIndex: 7043 entries, 0 to 7042\n",
      "Data columns (total 23 columns):\n",
      " #   Column            Non-Null Count  Dtype  \n",
      "---  ------            --------------  -----  \n",
      " 0   customerID        7043 non-null   object \n",
      " 1   gender            7043 non-null   object \n",
      " 2   SeniorCitizen     7043 non-null   int64  \n",
      " 3   Partner           7043 non-null   object \n",
      " 4   Dependents        7043 non-null   object \n",
      " 5   tenure            7043 non-null   int64  \n",
      " 6   PhoneService      7043 non-null   object \n",
      " 7   MultipleLines     7043 non-null   object \n",
      " 8   InternetService   7043 non-null   object \n",
      " 9   OnlineSecurity    7043 non-null   object \n",
      " 10  OnlineBackup      7043 non-null   object \n",
      " 11  DeviceProtection  7043 non-null   object \n",
      " 12  TechSupport       7043 non-null   object \n",
      " 13  StreamingTV       7043 non-null   object \n",
      " 14  StreamingMovies   7043 non-null   object \n",
      " 15  Contract          7043 non-null   object \n",
      " 16  PaperlessBilling  7043 non-null   object \n",
      " 17  PaymentMethod     7043 non-null   object \n",
      " 18  MonthlyCharges    7043 non-null   float64\n",
      " 19  TotalCharges      7043 non-null   object \n",
      " 20  numAdminTickets   7043 non-null   int64  \n",
      " 21  numTechTickets    7043 non-null   int64  \n",
      " 22  Churn             7043 non-null   object \n",
      "dtypes: float64(1), int64(4), object(18)\n",
      "memory usage: 1.2+ MB\n"
     ]
    }
   ],
   "source": [
    "df.info()"
   ]
  },
  {
   "cell_type": "code",
   "execution_count": 4,
   "metadata": {},
   "outputs": [
    {
     "data": {
      "text/html": [
       "<div>\n",
       "<style scoped>\n",
       "    .dataframe tbody tr th:only-of-type {\n",
       "        vertical-align: middle;\n",
       "    }\n",
       "\n",
       "    .dataframe tbody tr th {\n",
       "        vertical-align: top;\n",
       "    }\n",
       "\n",
       "    .dataframe thead th {\n",
       "        text-align: right;\n",
       "    }\n",
       "</style>\n",
       "<table border=\"1\" class=\"dataframe\">\n",
       "  <thead>\n",
       "    <tr style=\"text-align: right;\">\n",
       "      <th></th>\n",
       "      <th>SeniorCitizen</th>\n",
       "      <th>tenure</th>\n",
       "      <th>MonthlyCharges</th>\n",
       "      <th>numAdminTickets</th>\n",
       "      <th>numTechTickets</th>\n",
       "    </tr>\n",
       "  </thead>\n",
       "  <tbody>\n",
       "    <tr>\n",
       "      <th>count</th>\n",
       "      <td>7043.000000</td>\n",
       "      <td>7043.000000</td>\n",
       "      <td>7043.000000</td>\n",
       "      <td>7043.000000</td>\n",
       "      <td>7043.000000</td>\n",
       "    </tr>\n",
       "    <tr>\n",
       "      <th>mean</th>\n",
       "      <td>0.162147</td>\n",
       "      <td>32.371149</td>\n",
       "      <td>64.761692</td>\n",
       "      <td>0.515689</td>\n",
       "      <td>0.419566</td>\n",
       "    </tr>\n",
       "    <tr>\n",
       "      <th>std</th>\n",
       "      <td>0.368612</td>\n",
       "      <td>24.559481</td>\n",
       "      <td>30.090047</td>\n",
       "      <td>1.275299</td>\n",
       "      <td>1.250117</td>\n",
       "    </tr>\n",
       "    <tr>\n",
       "      <th>min</th>\n",
       "      <td>0.000000</td>\n",
       "      <td>0.000000</td>\n",
       "      <td>18.250000</td>\n",
       "      <td>0.000000</td>\n",
       "      <td>0.000000</td>\n",
       "    </tr>\n",
       "    <tr>\n",
       "      <th>25%</th>\n",
       "      <td>0.000000</td>\n",
       "      <td>9.000000</td>\n",
       "      <td>35.500000</td>\n",
       "      <td>0.000000</td>\n",
       "      <td>0.000000</td>\n",
       "    </tr>\n",
       "    <tr>\n",
       "      <th>50%</th>\n",
       "      <td>0.000000</td>\n",
       "      <td>29.000000</td>\n",
       "      <td>70.350000</td>\n",
       "      <td>0.000000</td>\n",
       "      <td>0.000000</td>\n",
       "    </tr>\n",
       "    <tr>\n",
       "      <th>75%</th>\n",
       "      <td>0.000000</td>\n",
       "      <td>55.000000</td>\n",
       "      <td>89.850000</td>\n",
       "      <td>0.000000</td>\n",
       "      <td>0.000000</td>\n",
       "    </tr>\n",
       "    <tr>\n",
       "      <th>max</th>\n",
       "      <td>1.000000</td>\n",
       "      <td>72.000000</td>\n",
       "      <td>118.750000</td>\n",
       "      <td>5.000000</td>\n",
       "      <td>9.000000</td>\n",
       "    </tr>\n",
       "  </tbody>\n",
       "</table>\n",
       "</div>"
      ],
      "text/plain": [
       "       SeniorCitizen       tenure  MonthlyCharges  numAdminTickets  \\\n",
       "count    7043.000000  7043.000000     7043.000000      7043.000000   \n",
       "mean        0.162147    32.371149       64.761692         0.515689   \n",
       "std         0.368612    24.559481       30.090047         1.275299   \n",
       "min         0.000000     0.000000       18.250000         0.000000   \n",
       "25%         0.000000     9.000000       35.500000         0.000000   \n",
       "50%         0.000000    29.000000       70.350000         0.000000   \n",
       "75%         0.000000    55.000000       89.850000         0.000000   \n",
       "max         1.000000    72.000000      118.750000         5.000000   \n",
       "\n",
       "       numTechTickets  \n",
       "count     7043.000000  \n",
       "mean         0.419566  \n",
       "std          1.250117  \n",
       "min          0.000000  \n",
       "25%          0.000000  \n",
       "50%          0.000000  \n",
       "75%          0.000000  \n",
       "max          9.000000  "
      ]
     },
     "execution_count": 4,
     "metadata": {},
     "output_type": "execute_result"
    }
   ],
   "source": [
    "df.describe()"
   ]
  },
  {
   "cell_type": "markdown",
   "metadata": {},
   "source": [
    "# Data Cleaning"
   ]
  },
  {
   "cell_type": "markdown",
   "metadata": {},
   "source": [
    "Data Cleaning\n",
    "- Null values\n",
    "- Duplicates\n",
    "- Wrong values\n",
    "- Wrong format\n",
    " "
   ]
  },
  {
   "cell_type": "code",
   "execution_count": 5,
   "metadata": {},
   "outputs": [
    {
     "data": {
      "text/plain": [
       "customerID          0\n",
       "gender              0\n",
       "SeniorCitizen       0\n",
       "Partner             0\n",
       "Dependents          0\n",
       "tenure              0\n",
       "PhoneService        0\n",
       "MultipleLines       0\n",
       "InternetService     0\n",
       "OnlineSecurity      0\n",
       "OnlineBackup        0\n",
       "DeviceProtection    0\n",
       "TechSupport         0\n",
       "StreamingTV         0\n",
       "StreamingMovies     0\n",
       "Contract            0\n",
       "PaperlessBilling    0\n",
       "PaymentMethod       0\n",
       "MonthlyCharges      0\n",
       "TotalCharges        0\n",
       "numAdminTickets     0\n",
       "numTechTickets      0\n",
       "Churn               0\n",
       "dtype: int64"
      ]
     },
     "execution_count": 5,
     "metadata": {},
     "output_type": "execute_result"
    }
   ],
   "source": [
    "# Checking for null values\n",
    "\n",
    "df.isna().sum()"
   ]
  },
  {
   "cell_type": "code",
   "execution_count": 6,
   "metadata": {},
   "outputs": [],
   "source": [
    "# Identified rows with spaces \" \"\n",
    "# df.loc[488]\n",
    "df.TotalCharges.replace(\" \",None,inplace=True)\n",
    "df.replace(\" \",None,inplace=True)\n"
   ]
  },
  {
   "cell_type": "code",
   "execution_count": 7,
   "metadata": {},
   "outputs": [],
   "source": [
    "# Reindexing\n",
    "df.reset_index(drop=True,inplace=True)"
   ]
  },
  {
   "cell_type": "code",
   "execution_count": 8,
   "metadata": {},
   "outputs": [],
   "source": [
    "# Dropping null values\n",
    "df.dropna(inplace=True)"
   ]
  },
  {
   "cell_type": "code",
   "execution_count": 9,
   "metadata": {},
   "outputs": [
    {
     "data": {
      "text/plain": [
       "0"
      ]
     },
     "execution_count": 9,
     "metadata": {},
     "output_type": "execute_result"
    }
   ],
   "source": [
    "# Checking for duplicates\n",
    "df.duplicated().sum()"
   ]
  },
  {
   "cell_type": "code",
   "execution_count": 10,
   "metadata": {},
   "outputs": [],
   "source": [
    "# Changing data format to categorical data\n",
    "\n",
    "df[\"gender\"] = df[\"gender\"].astype('category')\n",
    "# df[\"SeniorCitizen\"] = df[\"SeniorCitizen\"].astype('category')\n",
    "df[\"TotalCharges\"] = pd.to_numeric(df[\"TotalCharges\"])\n"
   ]
  },
  {
   "cell_type": "code",
   "execution_count": 11,
   "metadata": {},
   "outputs": [],
   "source": [
    "# Automating datatype conversion\n",
    "for i in df.columns[1:]:\n",
    "    if str(df[i].dtype) == 'object':\n",
    "        df[i] = df[i].astype('category')"
   ]
  },
  {
   "cell_type": "code",
   "execution_count": 12,
   "metadata": {},
   "outputs": [
    {
     "data": {
      "text/html": [
       "<style type=\"text/css\">\n",
       "#T_2e9ee_row0_col0, #T_2e9ee_row1_col1, #T_2e9ee_row2_col2, #T_2e9ee_row3_col3, #T_2e9ee_row4_col4, #T_2e9ee_row5_col5 {\n",
       "  background-color: #b40426;\n",
       "  color: #f1f1f1;\n",
       "}\n",
       "#T_2e9ee_row0_col1, #T_2e9ee_row3_col4 {\n",
       "  background-color: #3e51c5;\n",
       "  color: #f1f1f1;\n",
       "}\n",
       "#T_2e9ee_row0_col2, #T_2e9ee_row5_col1 {\n",
       "  background-color: #80a3fa;\n",
       "  color: #f1f1f1;\n",
       "}\n",
       "#T_2e9ee_row0_col3 {\n",
       "  background-color: #5875e1;\n",
       "  color: #f1f1f1;\n",
       "}\n",
       "#T_2e9ee_row0_col4 {\n",
       "  background-color: #3c4ec2;\n",
       "  color: #f1f1f1;\n",
       "}\n",
       "#T_2e9ee_row0_col5 {\n",
       "  background-color: #5977e3;\n",
       "  color: #f1f1f1;\n",
       "}\n",
       "#T_2e9ee_row1_col0, #T_2e9ee_row2_col4 {\n",
       "  background-color: #3f53c6;\n",
       "  color: #f1f1f1;\n",
       "}\n",
       "#T_2e9ee_row1_col2 {\n",
       "  background-color: #89acfd;\n",
       "  color: #000000;\n",
       "}\n",
       "#T_2e9ee_row1_col3, #T_2e9ee_row3_col1 {\n",
       "  background-color: #e9785d;\n",
       "  color: #f1f1f1;\n",
       "}\n",
       "#T_2e9ee_row1_col4 {\n",
       "  background-color: #3d50c3;\n",
       "  color: #f1f1f1;\n",
       "}\n",
       "#T_2e9ee_row1_col5, #T_2e9ee_row2_col0 {\n",
       "  background-color: #82a6fb;\n",
       "  color: #f1f1f1;\n",
       "}\n",
       "#T_2e9ee_row2_col1 {\n",
       "  background-color: #8caffe;\n",
       "  color: #000000;\n",
       "}\n",
       "#T_2e9ee_row2_col3 {\n",
       "  background-color: #f6bda2;\n",
       "  color: #000000;\n",
       "}\n",
       "#T_2e9ee_row2_col5 {\n",
       "  background-color: #8db0fe;\n",
       "  color: #000000;\n",
       "}\n",
       "#T_2e9ee_row3_col0 {\n",
       "  background-color: #5a78e4;\n",
       "  color: #f1f1f1;\n",
       "}\n",
       "#T_2e9ee_row3_col2 {\n",
       "  background-color: #f6bea4;\n",
       "  color: #000000;\n",
       "}\n",
       "#T_2e9ee_row3_col5 {\n",
       "  background-color: #9bbcff;\n",
       "  color: #000000;\n",
       "}\n",
       "#T_2e9ee_row4_col0, #T_2e9ee_row4_col1, #T_2e9ee_row4_col2, #T_2e9ee_row4_col3, #T_2e9ee_row4_col5, #T_2e9ee_row5_col4 {\n",
       "  background-color: #3b4cc0;\n",
       "  color: #f1f1f1;\n",
       "}\n",
       "#T_2e9ee_row5_col0 {\n",
       "  background-color: #5673e0;\n",
       "  color: #f1f1f1;\n",
       "}\n",
       "#T_2e9ee_row5_col2 {\n",
       "  background-color: #88abfd;\n",
       "  color: #000000;\n",
       "}\n",
       "#T_2e9ee_row5_col3 {\n",
       "  background-color: #97b8ff;\n",
       "  color: #000000;\n",
       "}\n",
       "</style>\n",
       "<table id=\"T_2e9ee\">\n",
       "  <thead>\n",
       "    <tr>\n",
       "      <th class=\"blank level0\" >&nbsp;</th>\n",
       "      <th id=\"T_2e9ee_level0_col0\" class=\"col_heading level0 col0\" >SeniorCitizen</th>\n",
       "      <th id=\"T_2e9ee_level0_col1\" class=\"col_heading level0 col1\" >tenure</th>\n",
       "      <th id=\"T_2e9ee_level0_col2\" class=\"col_heading level0 col2\" >MonthlyCharges</th>\n",
       "      <th id=\"T_2e9ee_level0_col3\" class=\"col_heading level0 col3\" >TotalCharges</th>\n",
       "      <th id=\"T_2e9ee_level0_col4\" class=\"col_heading level0 col4\" >numAdminTickets</th>\n",
       "      <th id=\"T_2e9ee_level0_col5\" class=\"col_heading level0 col5\" >numTechTickets</th>\n",
       "    </tr>\n",
       "  </thead>\n",
       "  <tbody>\n",
       "    <tr>\n",
       "      <th id=\"T_2e9ee_level0_row0\" class=\"row_heading level0 row0\" >SeniorCitizen</th>\n",
       "      <td id=\"T_2e9ee_row0_col0\" class=\"data row0 col0\" >1.000000</td>\n",
       "      <td id=\"T_2e9ee_row0_col1\" class=\"data row0 col1\" >0.015683</td>\n",
       "      <td id=\"T_2e9ee_row0_col2\" class=\"data row0 col2\" >0.219874</td>\n",
       "      <td id=\"T_2e9ee_row0_col3\" class=\"data row0 col3\" >0.102411</td>\n",
       "      <td id=\"T_2e9ee_row0_col4\" class=\"data row0 col4\" >-0.000621</td>\n",
       "      <td id=\"T_2e9ee_row0_col5\" class=\"data row0 col5\" >0.093121</td>\n",
       "    </tr>\n",
       "    <tr>\n",
       "      <th id=\"T_2e9ee_level0_row1\" class=\"row_heading level0 row1\" >tenure</th>\n",
       "      <td id=\"T_2e9ee_row1_col0\" class=\"data row1 col0\" >0.015683</td>\n",
       "      <td id=\"T_2e9ee_row1_col1\" class=\"data row1 col1\" >1.000000</td>\n",
       "      <td id=\"T_2e9ee_row1_col2\" class=\"data row1 col2\" >0.246862</td>\n",
       "      <td id=\"T_2e9ee_row1_col3\" class=\"data row1 col3\" >0.825880</td>\n",
       "      <td id=\"T_2e9ee_row1_col4\" class=\"data row1 col4\" >0.000344</td>\n",
       "      <td id=\"T_2e9ee_row1_col5\" class=\"data row1 col5\" >0.214777</td>\n",
       "    </tr>\n",
       "    <tr>\n",
       "      <th id=\"T_2e9ee_level0_row2\" class=\"row_heading level0 row2\" >MonthlyCharges</th>\n",
       "      <td id=\"T_2e9ee_row2_col0\" class=\"data row2 col0\" >0.219874</td>\n",
       "      <td id=\"T_2e9ee_row2_col1\" class=\"data row2 col1\" >0.246862</td>\n",
       "      <td id=\"T_2e9ee_row2_col2\" class=\"data row2 col2\" >1.000000</td>\n",
       "      <td id=\"T_2e9ee_row2_col3\" class=\"data row2 col3\" >0.651065</td>\n",
       "      <td id=\"T_2e9ee_row2_col4\" class=\"data row2 col4\" >0.008717</td>\n",
       "      <td id=\"T_2e9ee_row2_col5\" class=\"data row2 col5\" >0.244920</td>\n",
       "    </tr>\n",
       "    <tr>\n",
       "      <th id=\"T_2e9ee_level0_row3\" class=\"row_heading level0 row3\" >TotalCharges</th>\n",
       "      <td id=\"T_2e9ee_row3_col0\" class=\"data row3 col0\" >0.102411</td>\n",
       "      <td id=\"T_2e9ee_row3_col1\" class=\"data row3 col1\" >0.825880</td>\n",
       "      <td id=\"T_2e9ee_row3_col2\" class=\"data row3 col2\" >0.651065</td>\n",
       "      <td id=\"T_2e9ee_row3_col3\" class=\"data row3 col3\" >1.000000</td>\n",
       "      <td id=\"T_2e9ee_row3_col4\" class=\"data row3 col4\" >0.007200</td>\n",
       "      <td id=\"T_2e9ee_row3_col5\" class=\"data row3 col5\" >0.283839</td>\n",
       "    </tr>\n",
       "    <tr>\n",
       "      <th id=\"T_2e9ee_level0_row4\" class=\"row_heading level0 row4\" >numAdminTickets</th>\n",
       "      <td id=\"T_2e9ee_row4_col0\" class=\"data row4 col0\" >-0.000621</td>\n",
       "      <td id=\"T_2e9ee_row4_col1\" class=\"data row4 col1\" >0.000344</td>\n",
       "      <td id=\"T_2e9ee_row4_col2\" class=\"data row4 col2\" >0.008717</td>\n",
       "      <td id=\"T_2e9ee_row4_col3\" class=\"data row4 col3\" >0.007200</td>\n",
       "      <td id=\"T_2e9ee_row4_col4\" class=\"data row4 col4\" >1.000000</td>\n",
       "      <td id=\"T_2e9ee_row4_col5\" class=\"data row4 col5\" >-0.007820</td>\n",
       "    </tr>\n",
       "    <tr>\n",
       "      <th id=\"T_2e9ee_level0_row5\" class=\"row_heading level0 row5\" >numTechTickets</th>\n",
       "      <td id=\"T_2e9ee_row5_col0\" class=\"data row5 col0\" >0.093121</td>\n",
       "      <td id=\"T_2e9ee_row5_col1\" class=\"data row5 col1\" >0.214777</td>\n",
       "      <td id=\"T_2e9ee_row5_col2\" class=\"data row5 col2\" >0.244920</td>\n",
       "      <td id=\"T_2e9ee_row5_col3\" class=\"data row5 col3\" >0.283839</td>\n",
       "      <td id=\"T_2e9ee_row5_col4\" class=\"data row5 col4\" >-0.007820</td>\n",
       "      <td id=\"T_2e9ee_row5_col5\" class=\"data row5 col5\" >1.000000</td>\n",
       "    </tr>\n",
       "  </tbody>\n",
       "</table>\n"
      ],
      "text/plain": [
       "<pandas.io.formats.style.Styler at 0x1a0d050a9b0>"
      ]
     },
     "execution_count": 12,
     "metadata": {},
     "output_type": "execute_result"
    }
   ],
   "source": [
    "corr = df.corr()\n",
    "corr.style.background_gradient(cmap='coolwarm')"
   ]
  },
  {
   "cell_type": "markdown",
   "metadata": {},
   "source": [
    "Data is clean\n",
    "some correlation\n",
    "Total Charges and Tenure\n",
    "Total Charges and Monthly Charges"
   ]
  },
  {
   "cell_type": "markdown",
   "metadata": {},
   "source": [
    "# Machine Learning"
   ]
  },
  {
   "cell_type": "code",
   "execution_count": 13,
   "metadata": {},
   "outputs": [
    {
     "name": "stdout",
     "output_type": "stream",
     "text": [
      "<class 'pandas.core.frame.DataFrame'>\n",
      "Int64Index: 7032 entries, 0 to 7042\n",
      "Data columns (total 23 columns):\n",
      " #   Column            Non-Null Count  Dtype   \n",
      "---  ------            --------------  -----   \n",
      " 0   customerID        7032 non-null   object  \n",
      " 1   gender            7032 non-null   category\n",
      " 2   SeniorCitizen     7032 non-null   int64   \n",
      " 3   Partner           7032 non-null   category\n",
      " 4   Dependents        7032 non-null   category\n",
      " 5   tenure            7032 non-null   int64   \n",
      " 6   PhoneService      7032 non-null   category\n",
      " 7   MultipleLines     7032 non-null   category\n",
      " 8   InternetService   7032 non-null   category\n",
      " 9   OnlineSecurity    7032 non-null   category\n",
      " 10  OnlineBackup      7032 non-null   category\n",
      " 11  DeviceProtection  7032 non-null   category\n",
      " 12  TechSupport       7032 non-null   category\n",
      " 13  StreamingTV       7032 non-null   category\n",
      " 14  StreamingMovies   7032 non-null   category\n",
      " 15  Contract          7032 non-null   category\n",
      " 16  PaperlessBilling  7032 non-null   category\n",
      " 17  PaymentMethod     7032 non-null   category\n",
      " 18  MonthlyCharges    7032 non-null   float64 \n",
      " 19  TotalCharges      7032 non-null   float64 \n",
      " 20  numAdminTickets   7032 non-null   int64   \n",
      " 21  numTechTickets    7032 non-null   int64   \n",
      " 22  Churn             7032 non-null   category\n",
      "dtypes: category(16), float64(2), int64(4), object(1)\n",
      "memory usage: 551.5+ KB\n"
     ]
    }
   ],
   "source": [
    "df.info()"
   ]
  },
  {
   "cell_type": "code",
   "execution_count": 14,
   "metadata": {},
   "outputs": [
    {
     "name": "stdout",
     "output_type": "stream",
     "text": [
      "['No', 'Yes']\n",
      "Categories (2, object): ['No', 'Yes']\n",
      "No     5163\n",
      "Yes    1869\n",
      "Name: Churn, dtype: int64\n"
     ]
    }
   ],
   "source": [
    "print(df.Churn.unique())\n",
    "print(df.Churn.value_counts())"
   ]
  },
  {
   "cell_type": "code",
   "execution_count": 15,
   "metadata": {},
   "outputs": [
    {
     "data": {
      "image/png": "[encoded data removed]",
      "text/plain": [
       "<Figure size 432x288 with 1 Axes>"
      ]
     },
     "metadata": {
      "needs_background": "light"
     },
     "output_type": "display_data"
    }
   ],
   "source": [
    "sns.countplot(x=\"Churn\", data=df)\n",
    "plt.show()"
   ]
  },
  {
   "cell_type": "code",
   "execution_count": 16,
   "metadata": {},
   "outputs": [
    {
     "name": "stdout",
     "output_type": "stream",
     "text": [
      "percentage of churn: 26.6\n",
      "percentage of no churn: 73.4\n"
     ]
    }
   ],
   "source": [
    "churn = len(df[df[\"Churn\"] == \"Yes\"])\n",
    "no_churn = len(df[df[\"Churn\"] == \"No\"])\n",
    "perc_churn = (churn*100)/len(df)\n",
    "perc_nochurn = (no_churn*100)/len(df)\n",
    "print(f\"percentage of churn: {perc_churn:.1f}\")\n",
    "print(f\"percentage of no churn: {perc_nochurn:.1f}\")"
   ]
  },
  {
   "cell_type": "markdown",
   "metadata": {},
   "source": [
    "Encoding categorical data using OneHotEncoder"
   ]
  },
  {
   "cell_type": "code",
   "execution_count": 17,
   "metadata": {},
   "outputs": [],
   "source": [
    "# Automating the encoding\n",
    "from sklearn.preprocessing import OneHotEncoder\n",
    "for i in df.columns[1:-1]:\n",
    "    if str(df[i].dtype) == 'category':\n",
    "        encoder = OneHotEncoder()\n",
    "        onehotarray = encoder.fit_transform(df[[i]]).toarray()\n",
    "        items = [f'{i}_{item}' for item in encoder.categories_[0]]\n",
    "        df[items] = onehotarray"
   ]
  },
  {
   "cell_type": "markdown",
   "metadata": {},
   "source": [
    "Encoding the Values for Churn using OrdinalEncoder"
   ]
  },
  {
   "cell_type": "code",
   "execution_count": 18,
   "metadata": {},
   "outputs": [],
   "source": [
    "from sklearn.preprocessing import OrdinalEncoder\n",
    "from numpy import asarray\n",
    "# defining ordinal encoding\n",
    "encoder = OrdinalEncoder()\n",
    "# transform data\n",
    "result = encoder.fit_transform(df[[\"Churn\"]])\n",
    "df[\"Churn\"] = result"
   ]
  },
  {
   "cell_type": "code",
   "execution_count": 19,
   "metadata": {},
   "outputs": [],
   "source": [
    "df[\"Churn\"] = df[\"Churn\"].astype('category')"
   ]
  },
  {
   "cell_type": "code",
   "execution_count": 20,
   "metadata": {},
   "outputs": [],
   "source": [
    "df[\"Churn\"] = df[\"Churn\"].apply(lambda x: int(x))"
   ]
  },
  {
   "cell_type": "code",
   "execution_count": 21,
   "metadata": {},
   "outputs": [
    {
     "name": "stdout",
     "output_type": "stream",
     "text": [
      "<class 'pandas.core.frame.DataFrame'>\n",
      "Int64Index: 7032 entries, 0 to 7042\n",
      "Data columns (total 64 columns):\n",
      " #   Column                                   Non-Null Count  Dtype   \n",
      "---  ------                                   --------------  -----   \n",
      " 0   customerID                               7032 non-null   object  \n",
      " 1   gender                                   7032 non-null   category\n",
      " 2   SeniorCitizen                            7032 non-null   int64   \n",
      " 3   Partner                                  7032 non-null   category\n",
      " 4   Dependents                               7032 non-null   category\n",
      " 5   tenure                                   7032 non-null   int64   \n",
      " 6   PhoneService                             7032 non-null   category\n",
      " 7   MultipleLines                            7032 non-null   category\n",
      " 8   InternetService                          7032 non-null   category\n",
      " 9   OnlineSecurity                           7032 non-null   category\n",
      " 10  OnlineBackup                             7032 non-null   category\n",
      " 11  DeviceProtection                         7032 non-null   category\n",
      " 12  TechSupport                              7032 non-null   category\n",
      " 13  StreamingTV                              7032 non-null   category\n",
      " 14  StreamingMovies                          7032 non-null   category\n",
      " 15  Contract                                 7032 non-null   category\n",
      " 16  PaperlessBilling                         7032 non-null   category\n",
      " 17  PaymentMethod                            7032 non-null   category\n",
      " 18  MonthlyCharges                           7032 non-null   float64 \n",
      " 19  TotalCharges                             7032 non-null   float64 \n",
      " 20  numAdminTickets                          7032 non-null   int64   \n",
      " 21  numTechTickets                           7032 non-null   int64   \n",
      " 22  Churn                                    7032 non-null   category\n",
      " 23  gender_Female                            7032 non-null   float64 \n",
      " 24  gender_Male                              7032 non-null   float64 \n",
      " 25  Partner_No                               7032 non-null   float64 \n",
      " 26  Partner_Yes                              7032 non-null   float64 \n",
      " 27  Dependents_No                            7032 non-null   float64 \n",
      " 28  Dependents_Yes                           7032 non-null   float64 \n",
      " 29  PhoneService_No                          7032 non-null   float64 \n",
      " 30  PhoneService_Yes                         7032 non-null   float64 \n",
      " 31  MultipleLines_No                         7032 non-null   float64 \n",
      " 32  MultipleLines_No phone service           7032 non-null   float64 \n",
      " 33  MultipleLines_Yes                        7032 non-null   float64 \n",
      " 34  InternetService_DSL                      7032 non-null   float64 \n",
      " 35  InternetService_Fiber optic              7032 non-null   float64 \n",
      " 36  InternetService_No                       7032 non-null   float64 \n",
      " 37  OnlineSecurity_No                        7032 non-null   float64 \n",
      " 38  OnlineSecurity_No internet service       7032 non-null   float64 \n",
      " 39  OnlineSecurity_Yes                       7032 non-null   float64 \n",
      " 40  OnlineBackup_No                          7032 non-null   float64 \n",
      " 41  OnlineBackup_No internet service         7032 non-null   float64 \n",
      " 42  OnlineBackup_Yes                         7032 non-null   float64 \n",
      " 43  DeviceProtection_No                      7032 non-null   float64 \n",
      " 44  DeviceProtection_No internet service     7032 non-null   float64 \n",
      " 45  DeviceProtection_Yes                     7032 non-null   float64 \n",
      " 46  TechSupport_No                           7032 non-null   float64 \n",
      " 47  TechSupport_No internet service          7032 non-null   float64 \n",
      " 48  TechSupport_Yes                          7032 non-null   float64 \n",
      " 49  StreamingTV_No                           7032 non-null   float64 \n",
      " 50  StreamingTV_No internet service          7032 non-null   float64 \n",
      " 51  StreamingTV_Yes                          7032 non-null   float64 \n",
      " 52  StreamingMovies_No                       7032 non-null   float64 \n",
      " 53  StreamingMovies_No internet service      7032 non-null   float64 \n",
      " 54  StreamingMovies_Yes                      7032 non-null   float64 \n",
      " 55  Contract_Month-to-month                  7032 non-null   float64 \n",
      " 56  Contract_One year                        7032 non-null   float64 \n",
      " 57  Contract_Two year                        7032 non-null   float64 \n",
      " 58  PaperlessBilling_No                      7032 non-null   float64 \n",
      " 59  PaperlessBilling_Yes                     7032 non-null   float64 \n",
      " 60  PaymentMethod_Bank transfer (automatic)  7032 non-null   float64 \n",
      " 61  PaymentMethod_Credit card (automatic)    7032 non-null   float64 \n",
      " 62  PaymentMethod_Electronic check           7032 non-null   float64 \n",
      " 63  PaymentMethod_Mailed check               7032 non-null   float64 \n",
      "dtypes: category(16), float64(43), int64(4), object(1)\n",
      "memory usage: 2.7+ MB\n"
     ]
    }
   ],
   "source": [
    "\n",
    "df.info()"
   ]
  },
  {
   "cell_type": "code",
   "execution_count": 22,
   "metadata": {},
   "outputs": [
    {
     "data": {
      "text/plain": [
       "0    5163\n",
       "1    1869\n",
       "Name: Churn, dtype: int64"
      ]
     },
     "execution_count": 22,
     "metadata": {},
     "output_type": "execute_result"
    }
   ],
   "source": [
    "df.Churn.value_counts()"
   ]
  },
  {
   "cell_type": "markdown",
   "metadata": {},
   "source": [
    "Test p-value for significance"
   ]
  },
  {
   "cell_type": "code",
   "execution_count": 23,
   "metadata": {},
   "outputs": [
    {
     "data": {
      "text/html": [
       "<div>\n",
       "<style scoped>\n",
       "    .dataframe tbody tr th:only-of-type {\n",
       "        vertical-align: middle;\n",
       "    }\n",
       "\n",
       "    .dataframe tbody tr th {\n",
       "        vertical-align: top;\n",
       "    }\n",
       "\n",
       "    .dataframe thead th {\n",
       "        text-align: right;\n",
       "    }\n",
       "</style>\n",
       "<table border=\"1\" class=\"dataframe\">\n",
       "  <thead>\n",
       "    <tr style=\"text-align: right;\">\n",
       "      <th></th>\n",
       "      <th>r</th>\n",
       "      <th>P-value</th>\n",
       "    </tr>\n",
       "  </thead>\n",
       "  <tbody>\n",
       "    <tr>\n",
       "      <th>SeniorCitizen</th>\n",
       "      <td>0.1505</td>\n",
       "      <td>0.0000</td>\n",
       "    </tr>\n",
       "    <tr>\n",
       "      <th>tenure</th>\n",
       "      <td>-0.3540</td>\n",
       "      <td>0.0000</td>\n",
       "    </tr>\n",
       "    <tr>\n",
       "      <th>MonthlyCharges</th>\n",
       "      <td>0.1929</td>\n",
       "      <td>0.0000</td>\n",
       "    </tr>\n",
       "    <tr>\n",
       "      <th>TotalCharges</th>\n",
       "      <td>-0.1995</td>\n",
       "      <td>0.0000</td>\n",
       "    </tr>\n",
       "    <tr>\n",
       "      <th>numAdminTickets</th>\n",
       "      <td>-0.0196</td>\n",
       "      <td>0.1009</td>\n",
       "    </tr>\n",
       "    <tr>\n",
       "      <th>numTechTickets</th>\n",
       "      <td>0.3571</td>\n",
       "      <td>0.0000</td>\n",
       "    </tr>\n",
       "    <tr>\n",
       "      <th>gender_Female</th>\n",
       "      <td>0.0085</td>\n",
       "      <td>0.4737</td>\n",
       "    </tr>\n",
       "    <tr>\n",
       "      <th>gender_Male</th>\n",
       "      <td>-0.0085</td>\n",
       "      <td>0.4737</td>\n",
       "    </tr>\n",
       "    <tr>\n",
       "      <th>Partner_No</th>\n",
       "      <td>0.1500</td>\n",
       "      <td>0.0000</td>\n",
       "    </tr>\n",
       "    <tr>\n",
       "      <th>Partner_Yes</th>\n",
       "      <td>-0.1500</td>\n",
       "      <td>0.0000</td>\n",
       "    </tr>\n",
       "    <tr>\n",
       "      <th>Dependents_No</th>\n",
       "      <td>0.1631</td>\n",
       "      <td>0.0000</td>\n",
       "    </tr>\n",
       "    <tr>\n",
       "      <th>Dependents_Yes</th>\n",
       "      <td>-0.1631</td>\n",
       "      <td>0.0000</td>\n",
       "    </tr>\n",
       "    <tr>\n",
       "      <th>PhoneService_No</th>\n",
       "      <td>-0.0117</td>\n",
       "      <td>0.3270</td>\n",
       "    </tr>\n",
       "    <tr>\n",
       "      <th>PhoneService_Yes</th>\n",
       "      <td>0.0117</td>\n",
       "      <td>0.3270</td>\n",
       "    </tr>\n",
       "    <tr>\n",
       "      <th>MultipleLines_No</th>\n",
       "      <td>-0.0327</td>\n",
       "      <td>0.0062</td>\n",
       "    </tr>\n",
       "    <tr>\n",
       "      <th>MultipleLines_No phone service</th>\n",
       "      <td>-0.0117</td>\n",
       "      <td>0.3270</td>\n",
       "    </tr>\n",
       "    <tr>\n",
       "      <th>MultipleLines_Yes</th>\n",
       "      <td>0.0400</td>\n",
       "      <td>0.0008</td>\n",
       "    </tr>\n",
       "    <tr>\n",
       "      <th>InternetService_DSL</th>\n",
       "      <td>-0.1241</td>\n",
       "      <td>0.0000</td>\n",
       "    </tr>\n",
       "    <tr>\n",
       "      <th>InternetService_Fiber optic</th>\n",
       "      <td>0.3075</td>\n",
       "      <td>0.0000</td>\n",
       "    </tr>\n",
       "    <tr>\n",
       "      <th>InternetService_No</th>\n",
       "      <td>-0.2276</td>\n",
       "      <td>0.0000</td>\n",
       "    </tr>\n",
       "    <tr>\n",
       "      <th>OnlineSecurity_No</th>\n",
       "      <td>0.3422</td>\n",
       "      <td>0.0000</td>\n",
       "    </tr>\n",
       "    <tr>\n",
       "      <th>OnlineSecurity_No internet service</th>\n",
       "      <td>-0.2276</td>\n",
       "      <td>0.0000</td>\n",
       "    </tr>\n",
       "    <tr>\n",
       "      <th>OnlineSecurity_Yes</th>\n",
       "      <td>-0.1713</td>\n",
       "      <td>0.0000</td>\n",
       "    </tr>\n",
       "    <tr>\n",
       "      <th>OnlineBackup_No</th>\n",
       "      <td>0.2676</td>\n",
       "      <td>0.0000</td>\n",
       "    </tr>\n",
       "    <tr>\n",
       "      <th>OnlineBackup_No internet service</th>\n",
       "      <td>-0.2276</td>\n",
       "      <td>0.0000</td>\n",
       "    </tr>\n",
       "    <tr>\n",
       "      <th>OnlineBackup_Yes</th>\n",
       "      <td>-0.0823</td>\n",
       "      <td>0.0000</td>\n",
       "    </tr>\n",
       "    <tr>\n",
       "      <th>DeviceProtection_No</th>\n",
       "      <td>0.2521</td>\n",
       "      <td>0.0000</td>\n",
       "    </tr>\n",
       "    <tr>\n",
       "      <th>DeviceProtection_No internet service</th>\n",
       "      <td>-0.2276</td>\n",
       "      <td>0.0000</td>\n",
       "    </tr>\n",
       "    <tr>\n",
       "      <th>DeviceProtection_Yes</th>\n",
       "      <td>-0.0662</td>\n",
       "      <td>0.0000</td>\n",
       "    </tr>\n",
       "    <tr>\n",
       "      <th>TechSupport_No</th>\n",
       "      <td>0.3369</td>\n",
       "      <td>0.0000</td>\n",
       "    </tr>\n",
       "    <tr>\n",
       "      <th>TechSupport_No internet service</th>\n",
       "      <td>-0.2276</td>\n",
       "      <td>0.0000</td>\n",
       "    </tr>\n",
       "    <tr>\n",
       "      <th>TechSupport_Yes</th>\n",
       "      <td>-0.1647</td>\n",
       "      <td>0.0000</td>\n",
       "    </tr>\n",
       "    <tr>\n",
       "      <th>StreamingTV_No</th>\n",
       "      <td>0.1284</td>\n",
       "      <td>0.0000</td>\n",
       "    </tr>\n",
       "    <tr>\n",
       "      <th>StreamingTV_No internet service</th>\n",
       "      <td>-0.2276</td>\n",
       "      <td>0.0000</td>\n",
       "    </tr>\n",
       "    <tr>\n",
       "      <th>StreamingTV_Yes</th>\n",
       "      <td>0.0633</td>\n",
       "      <td>0.0000</td>\n",
       "    </tr>\n",
       "    <tr>\n",
       "      <th>StreamingMovies_No</th>\n",
       "      <td>0.1309</td>\n",
       "      <td>0.0000</td>\n",
       "    </tr>\n",
       "    <tr>\n",
       "      <th>StreamingMovies_No internet service</th>\n",
       "      <td>-0.2276</td>\n",
       "      <td>0.0000</td>\n",
       "    </tr>\n",
       "    <tr>\n",
       "      <th>StreamingMovies_Yes</th>\n",
       "      <td>0.0609</td>\n",
       "      <td>0.0000</td>\n",
       "    </tr>\n",
       "    <tr>\n",
       "      <th>Contract_Month-to-month</th>\n",
       "      <td>0.4046</td>\n",
       "      <td>0.0000</td>\n",
       "    </tr>\n",
       "    <tr>\n",
       "      <th>Contract_One year</th>\n",
       "      <td>-0.1782</td>\n",
       "      <td>0.0000</td>\n",
       "    </tr>\n",
       "    <tr>\n",
       "      <th>Contract_Two year</th>\n",
       "      <td>-0.3016</td>\n",
       "      <td>0.0000</td>\n",
       "    </tr>\n",
       "    <tr>\n",
       "      <th>PaperlessBilling_No</th>\n",
       "      <td>-0.1915</td>\n",
       "      <td>0.0000</td>\n",
       "    </tr>\n",
       "    <tr>\n",
       "      <th>PaperlessBilling_Yes</th>\n",
       "      <td>0.1915</td>\n",
       "      <td>0.0000</td>\n",
       "    </tr>\n",
       "    <tr>\n",
       "      <th>PaymentMethod_Bank transfer (automatic)</th>\n",
       "      <td>-0.1181</td>\n",
       "      <td>0.0000</td>\n",
       "    </tr>\n",
       "    <tr>\n",
       "      <th>PaymentMethod_Credit card (automatic)</th>\n",
       "      <td>-0.1347</td>\n",
       "      <td>0.0000</td>\n",
       "    </tr>\n",
       "    <tr>\n",
       "      <th>PaymentMethod_Electronic check</th>\n",
       "      <td>0.3015</td>\n",
       "      <td>0.0000</td>\n",
       "    </tr>\n",
       "    <tr>\n",
       "      <th>PaymentMethod_Mailed check</th>\n",
       "      <td>-0.0908</td>\n",
       "      <td>0.0000</td>\n",
       "    </tr>\n",
       "  </tbody>\n",
       "</table>\n",
       "</div>"
      ],
      "text/plain": [
       "                                              r  P-value\n",
       "SeniorCitizen                            0.1505   0.0000\n",
       "tenure                                  -0.3540   0.0000\n",
       "MonthlyCharges                           0.1929   0.0000\n",
       "TotalCharges                            -0.1995   0.0000\n",
       "numAdminTickets                         -0.0196   0.1009\n",
       "numTechTickets                           0.3571   0.0000\n",
       "gender_Female                            0.0085   0.4737\n",
       "gender_Male                             -0.0085   0.4737\n",
       "Partner_No                               0.1500   0.0000\n",
       "Partner_Yes                             -0.1500   0.0000\n",
       "Dependents_No                            0.1631   0.0000\n",
       "Dependents_Yes                          -0.1631   0.0000\n",
       "PhoneService_No                         -0.0117   0.3270\n",
       "PhoneService_Yes                         0.0117   0.3270\n",
       "MultipleLines_No                        -0.0327   0.0062\n",
       "MultipleLines_No phone service          -0.0117   0.3270\n",
       "MultipleLines_Yes                        0.0400   0.0008\n",
       "InternetService_DSL                     -0.1241   0.0000\n",
       "InternetService_Fiber optic              0.3075   0.0000\n",
       "InternetService_No                      -0.2276   0.0000\n",
       "OnlineSecurity_No                        0.3422   0.0000\n",
       "OnlineSecurity_No internet service      -0.2276   0.0000\n",
       "OnlineSecurity_Yes                      -0.1713   0.0000\n",
       "OnlineBackup_No                          0.2676   0.0000\n",
       "OnlineBackup_No internet service        -0.2276   0.0000\n",
       "OnlineBackup_Yes                        -0.0823   0.0000\n",
       "DeviceProtection_No                      0.2521   0.0000\n",
       "DeviceProtection_No internet service    -0.2276   0.0000\n",
       "DeviceProtection_Yes                    -0.0662   0.0000\n",
       "TechSupport_No                           0.3369   0.0000\n",
       "TechSupport_No internet service         -0.2276   0.0000\n",
       "TechSupport_Yes                         -0.1647   0.0000\n",
       "StreamingTV_No                           0.1284   0.0000\n",
       "StreamingTV_No internet service         -0.2276   0.0000\n",
       "StreamingTV_Yes                          0.0633   0.0000\n",
       "StreamingMovies_No                       0.1309   0.0000\n",
       "StreamingMovies_No internet service     -0.2276   0.0000\n",
       "StreamingMovies_Yes                      0.0609   0.0000\n",
       "Contract_Month-to-month                  0.4046   0.0000\n",
       "Contract_One year                       -0.1782   0.0000\n",
       "Contract_Two year                       -0.3016   0.0000\n",
       "PaperlessBilling_No                     -0.1915   0.0000\n",
       "PaperlessBilling_Yes                     0.1915   0.0000\n",
       "PaymentMethod_Bank transfer (automatic) -0.1181   0.0000\n",
       "PaymentMethod_Credit card (automatic)   -0.1347   0.0000\n",
       "PaymentMethod_Electronic check           0.3015   0.0000\n",
       "PaymentMethod_Mailed check              -0.0908   0.0000"
      ]
     },
     "execution_count": 23,
     "metadata": {},
     "output_type": "execute_result"
    }
   ],
   "source": [
    "from scipy import stats\n",
    "\n",
    "corr_df = pd.DataFrame(columns=['r', 'P-value'])\n",
    "\n",
    "for col in df:\n",
    "    if pd.api.types.is_numeric_dtype(df[col]):\n",
    "        r , p = stats.pearsonr(df.Churn, df[col])\n",
    "        corr_df.loc[col] = [round(r, 4), round(p, 4)]\n",
    "    \n",
    "corr_df"
   ]
  },
  {
   "cell_type": "markdown",
   "metadata": {},
   "source": [
    "Drop statistically insignificant columns i.e. customer_id, numAdminTickets, gender_Female, gender_Male,PhoneService_No,PhoneService_Yes, MultipleLines_No phone service,PaymentMethod,PaperlessBilling,Contract,StreamingMovies,StreamingTV,TechSupport,DeviceProtection,OnlineBackup, OnlineSecurity,InternetService,MultipleLines,PhoneService,Dependents,Partner,gender,Churn"
   ]
  },
  {
   "cell_type": "code",
   "execution_count": 24,
   "metadata": {},
   "outputs": [],
   "source": [
    "y = df.Churn.values\n",
    "x_data = df.drop([\"customerID\", \"numAdminTickets\", \"gender_Female\", \"gender_Male\",\"PhoneService_No\",\"PhoneService_Yes\", \"MultipleLines_No phone service\", \"PaymentMethod\", \"PaperlessBilling\", \"Contract\", \"StreamingMovies\", \"StreamingTV\", \"TechSupport\", \"DeviceProtection\", \"OnlineBackup\", \"OnlineSecurity\", \"InternetService\", \"MultipleLines\", \"PhoneService\", \"Dependents\", \"Partner\", \"gender\", \"Churn\"], axis='columns') "
   ]
  },
  {
   "cell_type": "code",
   "execution_count": 25,
   "metadata": {},
   "outputs": [
    {
     "name": "stdout",
     "output_type": "stream",
     "text": [
      "<class 'pandas.core.frame.DataFrame'>\n",
      "Int64Index: 7032 entries, 0 to 7042\n",
      "Data columns (total 41 columns):\n",
      " #   Column                                   Non-Null Count  Dtype  \n",
      "---  ------                                   --------------  -----  \n",
      " 0   SeniorCitizen                            7032 non-null   int64  \n",
      " 1   tenure                                   7032 non-null   int64  \n",
      " 2   MonthlyCharges                           7032 non-null   float64\n",
      " 3   TotalCharges                             7032 non-null   float64\n",
      " 4   numTechTickets                           7032 non-null   int64  \n",
      " 5   Partner_No                               7032 non-null   float64\n",
      " 6   Partner_Yes                              7032 non-null   float64\n",
      " 7   Dependents_No                            7032 non-null   float64\n",
      " 8   Dependents_Yes                           7032 non-null   float64\n",
      " 9   MultipleLines_No                         7032 non-null   float64\n",
      " 10  MultipleLines_Yes                        7032 non-null   float64\n",
      " 11  InternetService_DSL                      7032 non-null   float64\n",
      " 12  InternetService_Fiber optic              7032 non-null   float64\n",
      " 13  InternetService_No                       7032 non-null   float64\n",
      " 14  OnlineSecurity_No                        7032 non-null   float64\n",
      " 15  OnlineSecurity_No internet service       7032 non-null   float64\n",
      " 16  OnlineSecurity_Yes                       7032 non-null   float64\n",
      " 17  OnlineBackup_No                          7032 non-null   float64\n",
      " 18  OnlineBackup_No internet service         7032 non-null   float64\n",
      " 19  OnlineBackup_Yes                         7032 non-null   float64\n",
      " 20  DeviceProtection_No                      7032 non-null   float64\n",
      " 21  DeviceProtection_No internet service     7032 non-null   float64\n",
      " 22  DeviceProtection_Yes                     7032 non-null   float64\n",
      " 23  TechSupport_No                           7032 non-null   float64\n",
      " 24  TechSupport_No internet service          7032 non-null   float64\n",
      " 25  TechSupport_Yes                          7032 non-null   float64\n",
      " 26  StreamingTV_No                           7032 non-null   float64\n",
      " 27  StreamingTV_No internet service          7032 non-null   float64\n",
      " 28  StreamingTV_Yes                          7032 non-null   float64\n",
      " 29  StreamingMovies_No                       7032 non-null   float64\n",
      " 30  StreamingMovies_No internet service      7032 non-null   float64\n",
      " 31  StreamingMovies_Yes                      7032 non-null   float64\n",
      " 32  Contract_Month-to-month                  7032 non-null   float64\n",
      " 33  Contract_One year                        7032 non-null   float64\n",
      " 34  Contract_Two year                        7032 non-null   float64\n",
      " 35  PaperlessBilling_No                      7032 non-null   float64\n",
      " 36  PaperlessBilling_Yes                     7032 non-null   float64\n",
      " 37  PaymentMethod_Bank transfer (automatic)  7032 non-null   float64\n",
      " 38  PaymentMethod_Credit card (automatic)    7032 non-null   float64\n",
      " 39  PaymentMethod_Electronic check           7032 non-null   float64\n",
      " 40  PaymentMethod_Mailed check               7032 non-null   float64\n",
      "dtypes: float64(38), int64(3)\n",
      "memory usage: 2.3 MB\n"
     ]
    }
   ],
   "source": [
    "x_data.info()"
   ]
  },
  {
   "cell_type": "markdown",
   "metadata": {},
   "source": [
    "Normalization "
   ]
  },
  {
   "cell_type": "code",
   "execution_count": 26,
   "metadata": {},
   "outputs": [
    {
     "data": {
      "text/html": [
       "<div>\n",
       "<style scoped>\n",
       "    .dataframe tbody tr th:only-of-type {\n",
       "        vertical-align: middle;\n",
       "    }\n",
       "\n",
       "    .dataframe tbody tr th {\n",
       "        vertical-align: top;\n",
       "    }\n",
       "\n",
       "    .dataframe thead th {\n",
       "        text-align: right;\n",
       "    }\n",
       "</style>\n",
       "<table border=\"1\" class=\"dataframe\">\n",
       "  <thead>\n",
       "    <tr style=\"text-align: right;\">\n",
       "      <th></th>\n",
       "      <th>SeniorCitizen</th>\n",
       "      <th>tenure</th>\n",
       "      <th>MonthlyCharges</th>\n",
       "      <th>TotalCharges</th>\n",
       "      <th>numTechTickets</th>\n",
       "      <th>Partner_No</th>\n",
       "      <th>Partner_Yes</th>\n",
       "      <th>Dependents_No</th>\n",
       "      <th>Dependents_Yes</th>\n",
       "      <th>MultipleLines_No</th>\n",
       "      <th>...</th>\n",
       "      <th>StreamingMovies_Yes</th>\n",
       "      <th>Contract_Month-to-month</th>\n",
       "      <th>Contract_One year</th>\n",
       "      <th>Contract_Two year</th>\n",
       "      <th>PaperlessBilling_No</th>\n",
       "      <th>PaperlessBilling_Yes</th>\n",
       "      <th>PaymentMethod_Bank transfer (automatic)</th>\n",
       "      <th>PaymentMethod_Credit card (automatic)</th>\n",
       "      <th>PaymentMethod_Electronic check</th>\n",
       "      <th>PaymentMethod_Mailed check</th>\n",
       "    </tr>\n",
       "  </thead>\n",
       "  <tbody>\n",
       "    <tr>\n",
       "      <th>count</th>\n",
       "      <td>7032.000000</td>\n",
       "      <td>7032.000000</td>\n",
       "      <td>7032.000000</td>\n",
       "      <td>7032.000000</td>\n",
       "      <td>7032.000000</td>\n",
       "      <td>7032.000000</td>\n",
       "      <td>7032.000000</td>\n",
       "      <td>7032.000000</td>\n",
       "      <td>7032.000000</td>\n",
       "      <td>7032.000000</td>\n",
       "      <td>...</td>\n",
       "      <td>7032.000000</td>\n",
       "      <td>7032.000000</td>\n",
       "      <td>7032.000000</td>\n",
       "      <td>7032.000000</td>\n",
       "      <td>7032.000000</td>\n",
       "      <td>7032.000000</td>\n",
       "      <td>7032.000000</td>\n",
       "      <td>7032.000000</td>\n",
       "      <td>7032.000000</td>\n",
       "      <td>7032.000000</td>\n",
       "    </tr>\n",
       "    <tr>\n",
       "      <th>mean</th>\n",
       "      <td>0.162400</td>\n",
       "      <td>0.442560</td>\n",
       "      <td>0.463166</td>\n",
       "      <td>0.261309</td>\n",
       "      <td>0.046691</td>\n",
       "      <td>0.517491</td>\n",
       "      <td>0.482509</td>\n",
       "      <td>0.701507</td>\n",
       "      <td>0.298493</td>\n",
       "      <td>0.481371</td>\n",
       "      <td>...</td>\n",
       "      <td>0.388367</td>\n",
       "      <td>0.551052</td>\n",
       "      <td>0.209329</td>\n",
       "      <td>0.239619</td>\n",
       "      <td>0.407281</td>\n",
       "      <td>0.592719</td>\n",
       "      <td>0.219283</td>\n",
       "      <td>0.216297</td>\n",
       "      <td>0.336320</td>\n",
       "      <td>0.228100</td>\n",
       "    </tr>\n",
       "    <tr>\n",
       "      <th>std</th>\n",
       "      <td>0.368844</td>\n",
       "      <td>0.345708</td>\n",
       "      <td>0.299363</td>\n",
       "      <td>0.261571</td>\n",
       "      <td>0.138998</td>\n",
       "      <td>0.499729</td>\n",
       "      <td>0.499729</td>\n",
       "      <td>0.457629</td>\n",
       "      <td>0.457629</td>\n",
       "      <td>0.499688</td>\n",
       "      <td>...</td>\n",
       "      <td>0.487414</td>\n",
       "      <td>0.497422</td>\n",
       "      <td>0.406858</td>\n",
       "      <td>0.426881</td>\n",
       "      <td>0.491363</td>\n",
       "      <td>0.491363</td>\n",
       "      <td>0.413790</td>\n",
       "      <td>0.411748</td>\n",
       "      <td>0.472483</td>\n",
       "      <td>0.419637</td>\n",
       "    </tr>\n",
       "    <tr>\n",
       "      <th>min</th>\n",
       "      <td>0.000000</td>\n",
       "      <td>0.000000</td>\n",
       "      <td>0.000000</td>\n",
       "      <td>0.000000</td>\n",
       "      <td>0.000000</td>\n",
       "      <td>0.000000</td>\n",
       "      <td>0.000000</td>\n",
       "      <td>0.000000</td>\n",
       "      <td>0.000000</td>\n",
       "      <td>0.000000</td>\n",
       "      <td>...</td>\n",
       "      <td>0.000000</td>\n",
       "      <td>0.000000</td>\n",
       "      <td>0.000000</td>\n",
       "      <td>0.000000</td>\n",
       "      <td>0.000000</td>\n",
       "      <td>0.000000</td>\n",
       "      <td>0.000000</td>\n",
       "      <td>0.000000</td>\n",
       "      <td>0.000000</td>\n",
       "      <td>0.000000</td>\n",
       "    </tr>\n",
       "    <tr>\n",
       "      <th>25%</th>\n",
       "      <td>0.000000</td>\n",
       "      <td>0.112676</td>\n",
       "      <td>0.172512</td>\n",
       "      <td>0.044155</td>\n",
       "      <td>0.000000</td>\n",
       "      <td>0.000000</td>\n",
       "      <td>0.000000</td>\n",
       "      <td>0.000000</td>\n",
       "      <td>0.000000</td>\n",
       "      <td>0.000000</td>\n",
       "      <td>...</td>\n",
       "      <td>0.000000</td>\n",
       "      <td>0.000000</td>\n",
       "      <td>0.000000</td>\n",
       "      <td>0.000000</td>\n",
       "      <td>0.000000</td>\n",
       "      <td>0.000000</td>\n",
       "      <td>0.000000</td>\n",
       "      <td>0.000000</td>\n",
       "      <td>0.000000</td>\n",
       "      <td>0.000000</td>\n",
       "    </tr>\n",
       "    <tr>\n",
       "      <th>50%</th>\n",
       "      <td>0.000000</td>\n",
       "      <td>0.394366</td>\n",
       "      <td>0.518408</td>\n",
       "      <td>0.159090</td>\n",
       "      <td>0.000000</td>\n",
       "      <td>1.000000</td>\n",
       "      <td>0.000000</td>\n",
       "      <td>1.000000</td>\n",
       "      <td>0.000000</td>\n",
       "      <td>0.000000</td>\n",
       "      <td>...</td>\n",
       "      <td>0.000000</td>\n",
       "      <td>1.000000</td>\n",
       "      <td>0.000000</td>\n",
       "      <td>0.000000</td>\n",
       "      <td>0.000000</td>\n",
       "      <td>1.000000</td>\n",
       "      <td>0.000000</td>\n",
       "      <td>0.000000</td>\n",
       "      <td>0.000000</td>\n",
       "      <td>0.000000</td>\n",
       "    </tr>\n",
       "    <tr>\n",
       "      <th>75%</th>\n",
       "      <td>0.000000</td>\n",
       "      <td>0.760563</td>\n",
       "      <td>0.712562</td>\n",
       "      <td>0.435719</td>\n",
       "      <td>0.000000</td>\n",
       "      <td>1.000000</td>\n",
       "      <td>1.000000</td>\n",
       "      <td>1.000000</td>\n",
       "      <td>1.000000</td>\n",
       "      <td>1.000000</td>\n",
       "      <td>...</td>\n",
       "      <td>1.000000</td>\n",
       "      <td>1.000000</td>\n",
       "      <td>0.000000</td>\n",
       "      <td>0.000000</td>\n",
       "      <td>1.000000</td>\n",
       "      <td>1.000000</td>\n",
       "      <td>0.000000</td>\n",
       "      <td>0.000000</td>\n",
       "      <td>1.000000</td>\n",
       "      <td>0.000000</td>\n",
       "    </tr>\n",
       "    <tr>\n",
       "      <th>max</th>\n",
       "      <td>1.000000</td>\n",
       "      <td>1.000000</td>\n",
       "      <td>1.000000</td>\n",
       "      <td>1.000000</td>\n",
       "      <td>1.000000</td>\n",
       "      <td>1.000000</td>\n",
       "      <td>1.000000</td>\n",
       "      <td>1.000000</td>\n",
       "      <td>1.000000</td>\n",
       "      <td>1.000000</td>\n",
       "      <td>...</td>\n",
       "      <td>1.000000</td>\n",
       "      <td>1.000000</td>\n",
       "      <td>1.000000</td>\n",
       "      <td>1.000000</td>\n",
       "      <td>1.000000</td>\n",
       "      <td>1.000000</td>\n",
       "      <td>1.000000</td>\n",
       "      <td>1.000000</td>\n",
       "      <td>1.000000</td>\n",
       "      <td>1.000000</td>\n",
       "    </tr>\n",
       "  </tbody>\n",
       "</table>\n",
       "<p>8 rows × 41 columns</p>\n",
       "</div>"
      ],
      "text/plain": [
       "       SeniorCitizen       tenure  MonthlyCharges  TotalCharges  \\\n",
       "count    7032.000000  7032.000000     7032.000000   7032.000000   \n",
       "mean        0.162400     0.442560        0.463166      0.261309   \n",
       "std         0.368844     0.345708        0.299363      0.261571   \n",
       "min         0.000000     0.000000        0.000000      0.000000   \n",
       "25%         0.000000     0.112676        0.172512      0.044155   \n",
       "50%         0.000000     0.394366        0.518408      0.159090   \n",
       "75%         0.000000     0.760563        0.712562      0.435719   \n",
       "max         1.000000     1.000000        1.000000      1.000000   \n",
       "\n",
       "       numTechTickets   Partner_No  Partner_Yes  Dependents_No  \\\n",
       "count     7032.000000  7032.000000  7032.000000    7032.000000   \n",
       "mean         0.046691     0.517491     0.482509       0.701507   \n",
       "std          0.138998     0.499729     0.499729       0.457629   \n",
       "min          0.000000     0.000000     0.000000       0.000000   \n",
       "25%          0.000000     0.000000     0.000000       0.000000   \n",
       "50%          0.000000     1.000000     0.000000       1.000000   \n",
       "75%          0.000000     1.000000     1.000000       1.000000   \n",
       "max          1.000000     1.000000     1.000000       1.000000   \n",
       "\n",
       "       Dependents_Yes  MultipleLines_No  ...  StreamingMovies_Yes  \\\n",
       "count     7032.000000       7032.000000  ...          7032.000000   \n",
       "mean         0.298493          0.481371  ...             0.388367   \n",
       "std          0.457629          0.499688  ...             0.487414   \n",
       "min          0.000000          0.000000  ...             0.000000   \n",
       "25%          0.000000          0.000000  ...             0.000000   \n",
       "50%          0.000000          0.000000  ...             0.000000   \n",
       "75%          1.000000          1.000000  ...             1.000000   \n",
       "max          1.000000          1.000000  ...             1.000000   \n",
       "\n",
       "       Contract_Month-to-month  Contract_One year  Contract_Two year  \\\n",
       "count              7032.000000        7032.000000        7032.000000   \n",
       "mean                  0.551052           0.209329           0.239619   \n",
       "std                   0.497422           0.406858           0.426881   \n",
       "min                   0.000000           0.000000           0.000000   \n",
       "25%                   0.000000           0.000000           0.000000   \n",
       "50%                   1.000000           0.000000           0.000000   \n",
       "75%                   1.000000           0.000000           0.000000   \n",
       "max                   1.000000           1.000000           1.000000   \n",
       "\n",
       "       PaperlessBilling_No  PaperlessBilling_Yes  \\\n",
       "count          7032.000000           7032.000000   \n",
       "mean              0.407281              0.592719   \n",
       "std               0.491363              0.491363   \n",
       "min               0.000000              0.000000   \n",
       "25%               0.000000              0.000000   \n",
       "50%               0.000000              1.000000   \n",
       "75%               1.000000              1.000000   \n",
       "max               1.000000              1.000000   \n",
       "\n",
       "       PaymentMethod_Bank transfer (automatic)  \\\n",
       "count                              7032.000000   \n",
       "mean                                  0.219283   \n",
       "std                                   0.413790   \n",
       "min                                   0.000000   \n",
       "25%                                   0.000000   \n",
       "50%                                   0.000000   \n",
       "75%                                   0.000000   \n",
       "max                                   1.000000   \n",
       "\n",
       "       PaymentMethod_Credit card (automatic)  PaymentMethod_Electronic check  \\\n",
       "count                            7032.000000                     7032.000000   \n",
       "mean                                0.216297                        0.336320   \n",
       "std                                 0.411748                        0.472483   \n",
       "min                                 0.000000                        0.000000   \n",
       "25%                                 0.000000                        0.000000   \n",
       "50%                                 0.000000                        0.000000   \n",
       "75%                                 0.000000                        1.000000   \n",
       "max                                 1.000000                        1.000000   \n",
       "\n",
       "       PaymentMethod_Mailed check  \n",
       "count                 7032.000000  \n",
       "mean                     0.228100  \n",
       "std                      0.419637  \n",
       "min                      0.000000  \n",
       "25%                      0.000000  \n",
       "50%                      0.000000  \n",
       "75%                      0.000000  \n",
       "max                      1.000000  \n",
       "\n",
       "[8 rows x 41 columns]"
      ]
     },
     "execution_count": 26,
     "metadata": {},
     "output_type": "execute_result"
    }
   ],
   "source": [
    "#Normalization to handle unbalanced features \n",
    "x = (x_data - x_data.min())/(x_data.max() - x_data.min()).values\n",
    "x.describe()"
   ]
  },
  {
   "cell_type": "markdown",
   "metadata": {},
   "source": [
    "Split data"
   ]
  },
  {
   "cell_type": "code",
   "execution_count": 27,
   "metadata": {},
   "outputs": [
    {
     "name": "stdout",
     "output_type": "stream",
     "text": [
      "(5625, 41) (1407, 41)\n"
     ]
    }
   ],
   "source": [
    "# Split the data into training and test set. We use 20% test data with a random state of 42 \n",
    "from sklearn.model_selection import train_test_split\n",
    "x_train, x_test, y_train, y_test = train_test_split(x, y, test_size= 0.2, random_state=0)\n",
    "print(x_train.shape, x_test.shape) "
   ]
  },
  {
   "cell_type": "markdown",
   "metadata": {},
   "source": [
    "# Logistic Regression Model"
   ]
  },
  {
   "cell_type": "markdown",
   "metadata": {},
   "source": [
    "Train Model"
   ]
  },
  {
   "cell_type": "code",
   "execution_count": 28,
   "metadata": {},
   "outputs": [],
   "source": [
    "from sklearn.linear_model import LogisticRegression\n",
    "model = LogisticRegression(max_iter=5251).fit(x_train, y_train)\n"
   ]
  },
  {
   "cell_type": "markdown",
   "metadata": {},
   "source": [
    "Get results"
   ]
  },
  {
   "cell_type": "code",
   "execution_count": 29,
   "metadata": {},
   "outputs": [
    {
     "name": "stdout",
     "output_type": "stream",
     "text": [
      "Test accuracy: 0.8578535891968728\n",
      "intercept: [-1.08247182]\n",
      "slope: [[ 2.83628435e-01 -4.09691882e+00 -1.55729724e-01 -1.48601019e+00\n",
      "   1.05507575e+01 -9.16361416e-03  7.85260069e-03  7.53095386e-02\n",
      "  -7.66205521e-02 -3.53518226e-01 -3.24806897e-02 -4.04674550e-01\n",
      "   4.89868533e-01 -8.65049971e-02  2.72972134e-01 -8.65049971e-02\n",
      "  -1.87778150e-01  2.05557637e-01 -8.65049971e-02 -1.20363653e-01\n",
      "   6.23087126e-02 -8.65049971e-02  2.28852711e-02  1.55091683e-01\n",
      "  -8.65049971e-02 -6.98976996e-02  4.37611757e-02 -8.65049971e-02\n",
      "   4.14328079e-02  2.23503178e-02 -8.65049971e-02  6.28436659e-02\n",
      "   9.29657755e-01  1.26840516e-01 -1.05780928e+00 -1.69350830e-01\n",
      "   1.68039816e-01  4.15735341e-02 -1.99918467e-01  2.95181271e-01\n",
      "  -1.38147352e-01]]\n"
     ]
    }
   ],
   "source": [
    "# Attributes of the model\n",
    "lr_score = model.score(x_test,y_test)\n",
    "y_pred1 = model.predict(x_test)\n",
    "print(f\"Test accuracy: {lr_score}\")\n",
    "print(f\"intercept: {model.intercept_}\")     #value of y when x = 0\n",
    "print(f\"slope: {model.coef_}\")              #gradient of slope"
   ]
  },
  {
   "cell_type": "markdown",
   "metadata": {},
   "source": [
    "Predict results"
   ]
  },
  {
   "cell_type": "code",
   "execution_count": 30,
   "metadata": {},
   "outputs": [
    {
     "name": "stdout",
     "output_type": "stream",
     "text": [
      "predicted response:\n",
      "[0 0 0 ... 1 0 0]\n",
      "Actual response:\n",
      "[0, 0, 0, 1, 1, ..., 0, 1, 1, 0, 0]\n",
      "Length: 1407\n",
      "Categories (2, int64): [0, 1]\n"
     ]
    }
   ],
   "source": [
    "# y_pred = model.predict(x_test)\n",
    "print(f\"predicted response:\\n{y_pred1}\\nActual response:\\n{y_test}\")"
   ]
  },
  {
   "cell_type": "markdown",
   "metadata": {},
   "source": [
    "Check accuracy score alternatively"
   ]
  },
  {
   "cell_type": "code",
   "execution_count": 31,
   "metadata": {},
   "outputs": [
    {
     "name": "stdout",
     "output_type": "stream",
     "text": [
      "Model accuracy score: 0.8579\n"
     ]
    }
   ],
   "source": [
    "from sklearn.metrics import accuracy_score\n",
    "print('Model accuracy score: {0:0.4f}'. format(accuracy_score(y_test, y_pred1)))"
   ]
  },
  {
   "cell_type": "markdown",
   "metadata": {},
   "source": [
    "Printing and visualizing confusion matrix"
   ]
  },
  {
   "cell_type": "code",
   "execution_count": 32,
   "metadata": {},
   "outputs": [
    {
     "name": "stdout",
     "output_type": "stream",
     "text": [
      "Confusion matrix\n",
      "\n",
      " [[953  85]\n",
      " [115 254]]\n",
      "\n",
      "True Positives(TP) =  953\n",
      "\n",
      "True Negatives(TN) =  254\n",
      "\n",
      "False Positives(FP) =  85\n",
      "\n",
      "False Negatives(FN) =  115\n"
     ]
    }
   ],
   "source": [
    "from sklearn.metrics import confusion_matrix\n",
    "cm1 = confusion_matrix(y_test, y_pred1)\n",
    "print('Confusion matrix\\n\\n', cm1)\n",
    "print('\\nTrue Positives(TP) = ', cm1[0,0])\n",
    "print('\\nTrue Negatives(TN) = ', cm1[1,1])\n",
    "print('\\nFalse Positives(FP) = ', cm1[0,1])\n",
    "print('\\nFalse Negatives(FN) = ', cm1[1,0])"
   ]
  },
  {
   "cell_type": "code",
   "execution_count": 33,
   "metadata": {},
   "outputs": [
    {
     "data": {
      "image/png": "[encoded data removed]",
      "text/plain": [
       "<Figure size 360x360 with 2 Axes>"
      ]
     },
     "metadata": {
      "needs_background": "light"
     },
     "output_type": "display_data"
    }
   ],
   "source": [
    "# heatmap visulization of confusion matrix\n",
    "cm_matrix = pd.DataFrame(data=cm1, columns=['Actual Positive:1', 'Actual Negative:0'], index=['Predict Positive:1', 'Predict Negative:0'])\n",
    "f, ax = plt.subplots(figsize =(5, 5))\n",
    "sns.heatmap(cm_matrix, annot=True, linewidth=1, linecolor=\"green\", fmt=\".0f\", cmap='YlGnBu', ax=ax)\n",
    "plt.xlabel(\"y_prediction\")\n",
    "plt.ylabel(\"y_actual\")\n",
    "plt.show()    "
   ]
  },
  {
   "cell_type": "markdown",
   "metadata": {},
   "source": [
    "# KNN Classification Approach"
   ]
  },
  {
   "cell_type": "code",
   "execution_count": 34,
   "metadata": {},
   "outputs": [
    {
     "data": {
      "image/png": "[encoded data removed]",
      "text/plain": [
       "<Figure size 432x288 with 1 Axes>"
      ]
     },
     "metadata": {
      "needs_background": "light"
     },
     "output_type": "display_data"
    }
   ],
   "source": [
    "from sklearn.neighbors import KNeighborsClassifier\n",
    "\n",
    "# testing differnt vaues of k with accuracy to determine the most favorable\n",
    "# k ranges from 1-15\n",
    "score_list = []\n",
    "for i in range(1, 15):\n",
    "    knn_test = KNeighborsClassifier(n_neighbors = i)\n",
    "    knn_test.fit(x_train, y_train)\n",
    "    score_list.append(knn_test.score(x_test, y_test))\n",
    "    \n",
    "plt.plot(range(1, 15), score_list)\n",
    "plt.xlabel(\"kvalues\")\n",
    "plt.ylabel(\"accuracy\")\n",
    "plt.show()"
   ]
  },
  {
   "cell_type": "code",
   "execution_count": 35,
   "metadata": {},
   "outputs": [
    {
     "name": "stdout",
     "output_type": "stream",
     "text": [
      "11 nn score: 0.7917555081734187\n"
     ]
    }
   ],
   "source": [
    "#K = 11 has the hightst prediction accuracy\n",
    "k= 11\n",
    "knn = KNeighborsClassifier(n_neighbors=k)\n",
    "knn.fit(x_train, y_train)\n",
    "y_pred2 = knn.predict(x_test)\n",
    "print(\"{} nn score: {}\".format(k, knn.score(x_test, y_test)))\n",
    "\n",
    "knn_score = knn.score(x_test, y_test)"
   ]
  },
  {
   "cell_type": "code",
   "execution_count": 36,
   "metadata": {},
   "outputs": [
    {
     "name": "stdout",
     "output_type": "stream",
     "text": [
      "KNN Model accuracy score: 0.7918\n"
     ]
    }
   ],
   "source": [
    "# Alternatively\n",
    "from sklearn.metrics import accuracy_score\n",
    "print('KNN Model accuracy score: {0:0.4f}'. format(accuracy_score(y_test, y_pred2)))"
   ]
  },
  {
   "cell_type": "markdown",
   "metadata": {},
   "source": [
    "Printing and visualizing confusion matrix "
   ]
  },
  {
   "cell_type": "code",
   "execution_count": 37,
   "metadata": {},
   "outputs": [
    {
     "name": "stdout",
     "output_type": "stream",
     "text": [
      "Confusion matrix\n",
      "\n",
      " [[909 129]\n",
      " [164 205]]\n",
      "\n",
      "True Positives(TP) =  909\n",
      "\n",
      "True Negatives(TN) =  205\n",
      "\n",
      "False Positives(FP) =  129\n",
      "\n",
      "False Negatives(FN) =  164\n"
     ]
    }
   ],
   "source": [
    "from sklearn.metrics import confusion_matrix\n",
    "cm2 = confusion_matrix(y_test, y_pred2)\n",
    "print('Confusion matrix\\n\\n', cm2)\n",
    "print('\\nTrue Positives(TP) = ', cm2[0,0])\n",
    "print('\\nTrue Negatives(TN) = ', cm2[1,1])\n",
    "print('\\nFalse Positives(FP) = ', cm2[0,1])\n",
    "print('\\nFalse Negatives(FN) = ', cm2[1,0])"
   ]
  },
  {
   "cell_type": "code",
   "execution_count": 38,
   "metadata": {},
   "outputs": [
    {
     "data": {
      "image/png": "[encoded data removed]",
      "text/plain": [
       "<Figure size 360x360 with 2 Axes>"
      ]
     },
     "metadata": {
      "needs_background": "light"
     },
     "output_type": "display_data"
    }
   ],
   "source": [
    "# Heatmap visualization of conusion matrix\n",
    "cm_matrix = pd.DataFrame(data=cm2, columns=['Actual Positive:1', 'Actual Negative:0'], index=['Predict Positive:1', 'Predict Negative:0'])\n",
    "f, ax = plt.subplots(figsize =(5, 5))\n",
    "sns.heatmap(cm_matrix, annot=True, linewidth=1, linecolor=\"green\", fmt=\".0f\", cmap='YlGnBu', ax=ax)\n",
    "plt.xlabel(\"y_prediction\")\n",
    "plt.ylabel(\"y_actual\")\n",
    "plt.show()  "
   ]
  },
  {
   "cell_type": "markdown",
   "metadata": {},
   "source": [
    "# Decision Tree Approach"
   ]
  },
  {
   "cell_type": "code",
   "execution_count": 39,
   "metadata": {},
   "outputs": [
    {
     "name": "stdout",
     "output_type": "stream",
     "text": [
      "score:  0.8102345415778252\n",
      "Model accuracy score: 0.8102\n"
     ]
    }
   ],
   "source": [
    "# Decision tree approach\n",
    "from sklearn.tree import DecisionTreeClassifier\n",
    "dt = DecisionTreeClassifier(random_state = 50)\n",
    "dt.fit(x_train, y_train)\n",
    "dt_score = dt.score(x_test, y_test)\n",
    "y_pred3 = dt.predict(x_test)\n",
    "\n",
    "print(\"score: \", dt.score(x_test, y_test))\n",
    "print('Model accuracy score: {0:0.4f}'. format(accuracy_score(y_test, y_pred3)))"
   ]
  },
  {
   "cell_type": "markdown",
   "metadata": {},
   "source": [
    "Printing and visualizing the confusion matrix"
   ]
  },
  {
   "cell_type": "code",
   "execution_count": 40,
   "metadata": {},
   "outputs": [
    {
     "name": "stdout",
     "output_type": "stream",
     "text": [
      "Confusion matrix\n",
      "\n",
      " [[901 137]\n",
      " [130 239]]\n",
      "\n",
      "True Positives(TP) =  901\n",
      "\n",
      "True Negatives(TN) =  239\n",
      "\n",
      "False Positives(FP) =  137\n",
      "\n",
      "False Negatives(FN) =  130\n"
     ]
    }
   ],
   "source": [
    "from sklearn.metrics import confusion_matrix\n",
    "cm3 = confusion_matrix(y_test, y_pred3)\n",
    "print('Confusion matrix\\n\\n', cm3)\n",
    "print('\\nTrue Positives(TP) = ', cm3[0,0])\n",
    "print('\\nTrue Negatives(TN) = ', cm3[1,1])\n",
    "print('\\nFalse Positives(FP) = ', cm3[0,1])\n",
    "print('\\nFalse Negatives(FN) = ', cm3[1,0])"
   ]
  },
  {
   "cell_type": "code",
   "execution_count": 41,
   "metadata": {},
   "outputs": [
    {
     "data": {
      "image/png": "[encoded data removed]",
      "text/plain": [
       "<Figure size 360x360 with 2 Axes>"
      ]
     },
     "metadata": {
      "needs_background": "light"
     },
     "output_type": "display_data"
    }
   ],
   "source": [
    "# Visualizing the confusion matrix\n",
    "f, ax = plt.subplots(figsize = (5, 5))\n",
    "cm_matrix = pd.DataFrame(data=cm3, columns=['Actual Positive:1', 'Actual Negative:0'], index=['Predict Positive:1', 'Predict Negative:0'])\n",
    "sns.heatmap(cm_matrix, annot=True, linewidths=1, linecolor=\"black\",fmt='d', cmap='YlGnBu', ax=ax)\n",
    "plt.xlabel(\"y_prediction\")\n",
    "plt.ylabel(\"y_actual\")\n",
    "plt.show()"
   ]
  },
  {
   "cell_type": "markdown",
   "metadata": {},
   "source": [
    "# Random Forest Classification"
   ]
  },
  {
   "cell_type": "code",
   "execution_count": 42,
   "metadata": {},
   "outputs": [
    {
     "name": "stdout",
     "output_type": "stream",
     "text": [
      "random forest model score:  0.8621179815209666\n",
      "Model accuracy score: 0.8621\n"
     ]
    }
   ],
   "source": [
    "from sklearn.ensemble import RandomForestClassifier\n",
    "# set n_estimators to 100 whcih means the model will use 100 subsets\n",
    "rf = RandomForestClassifier(n_estimators = 100, random_state = 30)\n",
    "rf.fit(x_train, y_train)\n",
    "rf_score= rf.score(x_test, y_test)\n",
    "y_pred4 = rf.predict(x_test)\n",
    "print(\"random forest model score: \", rf_score)\n",
    "print('Model accuracy score: {0:0.4f}'. format(accuracy_score(y_test, y_pred4)))"
   ]
  },
  {
   "cell_type": "markdown",
   "metadata": {},
   "source": [
    "Printing and visualizing the confusion matrix"
   ]
  },
  {
   "cell_type": "code",
   "execution_count": 43,
   "metadata": {},
   "outputs": [
    {
     "name": "stdout",
     "output_type": "stream",
     "text": [
      "Confusion matrix\n",
      "\n",
      " [[962  76]\n",
      " [118 251]]\n",
      "\n",
      "True Positives(TP) =  962\n",
      "\n",
      "True Negatives(TN) =  251\n",
      "\n",
      "False Positives(FP) =  76\n",
      "\n",
      "False Negatives(FN) =  118\n"
     ]
    }
   ],
   "source": [
    "from sklearn.metrics import confusion_matrix\n",
    "cm4 = confusion_matrix(y_test, y_pred4)\n",
    "print('Confusion matrix\\n\\n', cm4)\n",
    "print('\\nTrue Positives(TP) = ', cm4[0,0])\n",
    "print('\\nTrue Negatives(TN) = ', cm4[1,1])\n",
    "print('\\nFalse Positives(FP) = ', cm4[0,1])\n",
    "print('\\nFalse Negatives(FN) = ', cm4[1,0])"
   ]
  },
  {
   "cell_type": "code",
   "execution_count": 44,
   "metadata": {},
   "outputs": [
    {
     "data": {
      "image/png": "[encoded data removed]",
      "text/plain": [
       "<Figure size 360x360 with 2 Axes>"
      ]
     },
     "metadata": {
      "needs_background": "light"
     },
     "output_type": "display_data"
    }
   ],
   "source": [
    "# confusion matrix\n",
    "f, ax = plt.subplots(figsize = (5, 5))\n",
    "cm_matrix = pd.DataFrame(data=cm4, columns=['Actual Positive:1', 'Actual Negative:0'], index=['Predict Positive:1', 'Predict Negative:0'])\n",
    "sns.heatmap(cm_matrix, annot=True, linewidths=1, linecolor=\"black\",fmt='d', cmap='YlGnBu', ax=ax)\n",
    "plt.xlabel(\"y_prediction\")\n",
    "plt.ylabel(\"y_actual\")\n",
    "plt.show()"
   ]
  },
  {
   "cell_type": "code",
   "execution_count": 45,
   "metadata": {},
   "outputs": [
    {
     "name": "stdout",
     "output_type": "stream",
     "text": [
      "              precision    recall  f1-score   support\n",
      "\n",
      "           0       0.89      0.93      0.91      1038\n",
      "           1       0.77      0.68      0.72       369\n",
      "\n",
      "    accuracy                           0.86      1407\n",
      "   macro avg       0.83      0.80      0.81      1407\n",
      "weighted avg       0.86      0.86      0.86      1407\n",
      "\n"
     ]
    }
   ],
   "source": [
    "from sklearn.metrics import classification_report\n",
    "print(classification_report(y_test, y_pred4))"
   ]
  },
  {
   "cell_type": "markdown",
   "metadata": {},
   "source": [
    "# Support Vector Machines"
   ]
  },
  {
   "cell_type": "code",
   "execution_count": 46,
   "metadata": {},
   "outputs": [
    {
     "name": "stdout",
     "output_type": "stream",
     "text": [
      "Accuracy of SVM:  0.8464818763326226\n"
     ]
    }
   ],
   "source": [
    "# SVM approach\n",
    "from sklearn.svm import SVC\n",
    "svm = SVC(random_state = 42)\n",
    "svm.fit(x_train, y_train)\n",
    "print(\"Accuracy of SVM: \", svm.score(x_test, y_test))\n",
    "svm_score = svm.score(x_test, y_test)\n",
    "y_pred5 = svm.predict(x_test)"
   ]
  },
  {
   "cell_type": "code",
   "execution_count": 47,
   "metadata": {},
   "outputs": [
    {
     "name": "stdout",
     "output_type": "stream",
     "text": [
      "Confusion matrix\n",
      "\n",
      " [[946  92]\n",
      " [124 245]]\n",
      "\n",
      "True Positives(TP) =  946\n",
      "\n",
      "True Negatives(TN) =  245\n",
      "\n",
      "False Positives(FP) =  92\n",
      "\n",
      "False Negatives(FN) =  124\n"
     ]
    }
   ],
   "source": [
    "from sklearn.metrics import confusion_matrix\n",
    "cm5 = confusion_matrix(y_test, y_pred5)\n",
    "print('Confusion matrix\\n\\n', cm5)\n",
    "print('\\nTrue Positives(TP) = ', cm5[0,0])\n",
    "print('\\nTrue Negatives(TN) = ', cm5[1,1])\n",
    "print('\\nFalse Positives(FP) = ', cm5[0,1])\n",
    "print('\\nFalse Negatives(FN) = ', cm5[1,0])"
   ]
  },
  {
   "cell_type": "code",
   "execution_count": 48,
   "metadata": {},
   "outputs": [
    {
     "data": {
      "image/png": "[encoded data removed]",
      "text/plain": [
       "<Figure size 360x360 with 2 Axes>"
      ]
     },
     "metadata": {
      "needs_background": "light"
     },
     "output_type": "display_data"
    }
   ],
   "source": [
    "# Visualizing the confusion matrix\n",
    "f, ax = plt.subplots(figsize = (5, 5))\n",
    "cm_matrix = pd.DataFrame(data=cm5, columns=['Actual Positive:1', 'Actual Negative:0'], index=['Predict Positive:1', 'Predict Negative:0'])\n",
    "sns.heatmap(cm_matrix, annot=True, linewidths=1, linecolor=\"black\",fmt='d', cmap='YlGnBu', ax=ax)\n",
    "plt.xlabel(\"y_prediction\")\n",
    "plt.ylabel(\"y_actual\")\n",
    "plt.show()"
   ]
  },
  {
   "cell_type": "markdown",
   "metadata": {},
   "source": [
    "# Naive Bayes Classification"
   ]
  },
  {
   "cell_type": "code",
   "execution_count": 49,
   "metadata": {},
   "outputs": [
    {
     "name": "stdout",
     "output_type": "stream",
     "text": [
      "accuracy of naive bayes:  0.7213930348258707\n"
     ]
    }
   ],
   "source": [
    "# Naive Bayes\n",
    "from sklearn.naive_bayes import GaussianNB\n",
    "nb = GaussianNB()\n",
    "nb.fit(x_train, y_train)\n",
    "print(\"accuracy of naive bayes: \", nb.score(x_test, y_test))\n",
    "nb_score = nb.score(x_test, y_test)\n",
    "y_pred6 = nb.predict(x_test)"
   ]
  },
  {
   "cell_type": "markdown",
   "metadata": {},
   "source": [
    "Visualizing and printing confusion matrix"
   ]
  },
  {
   "cell_type": "code",
   "execution_count": 50,
   "metadata": {},
   "outputs": [
    {
     "name": "stdout",
     "output_type": "stream",
     "text": [
      "Confusion matrix\n",
      "\n",
      " [[678 360]\n",
      " [ 32 337]]\n",
      "\n",
      "True Positives(TP) =  678\n",
      "\n",
      "True Negatives(TN) =  337\n",
      "\n",
      "False Positives(FP) =  360\n",
      "\n",
      "False Negatives(FN) =  32\n"
     ]
    }
   ],
   "source": [
    "from sklearn.metrics import confusion_matrix\n",
    "cm6 = confusion_matrix(y_test, y_pred6)\n",
    "print('Confusion matrix\\n\\n', cm6)\n",
    "print('\\nTrue Positives(TP) = ', cm6[0,0])\n",
    "print('\\nTrue Negatives(TN) = ', cm6[1,1])\n",
    "print('\\nFalse Positives(FP) = ', cm6[0,1])\n",
    "print('\\nFalse Negatives(FN) = ', cm6[1,0])"
   ]
  },
  {
   "cell_type": "code",
   "execution_count": 51,
   "metadata": {},
   "outputs": [
    {
     "data": {
      "image/png": "[encoded data removed]",
      "text/plain": [
       "<Figure size 360x360 with 2 Axes>"
      ]
     },
     "metadata": {
      "needs_background": "light"
     },
     "output_type": "display_data"
    }
   ],
   "source": [
    "# Visualizing the confusion matrix\n",
    "f, ax = plt.subplots(figsize = (5, 5))\n",
    "cm_matrix = pd.DataFrame(data=cm6, columns=['Actual Positive:1', 'Actual Negative:0'], index=['Predict Positive:1', 'Predict Negative:0'])\n",
    "sns.heatmap(cm_matrix, annot=True, linewidths=1, linecolor=\"black\",fmt='d', cmap='YlGnBu', ax=ax)\n",
    "plt.xlabel(\"y_prediction\")\n",
    "plt.ylabel(\"y_actual\")\n",
    "plt.show()"
   ]
  },
  {
   "cell_type": "markdown",
   "metadata": {},
   "source": [
    "# Compare Classification Models"
   ]
  },
  {
   "cell_type": "code",
   "execution_count": 52,
   "metadata": {},
   "outputs": [
    {
     "data": {
      "image/png": "[encoded data removed]",
      "text/plain": [
       "<Figure size 1296x864 with 1 Axes>"
      ]
     },
     "metadata": {
      "needs_background": "light"
     },
     "output_type": "display_data"
    }
   ],
   "source": [
    "class_name = (\"Logistic Regression\", \"KNN\", \"Decision Tree\", \"Random Forest\", \"SVM\", \"Naive bayes\")\n",
    "class_score = (lr_score, knn_score, dt_score, rf_score, svm_score, nb_score)\n",
    "y_pos = np.arange(len(class_score))\n",
    "colors = (\"orange\", \"brown\", \"brown\",\"black\", \"orange\",\"brown\")\n",
    "plt.figure(figsize=(18, 12))\n",
    "plt.bar(y_pos, class_score, color=colors)\n",
    "plt.xticks(y_pos, class_name, fontsize=20)\n",
    "plt.yticks(np.arange(0.00, 1.05, step = 0.05))\n",
    "plt.ylabel(\"Accuracy\")\n",
    "\n",
    "plt.title(\"Confusion Matrix Comparision of Classifiers\", fontsize=14)\n",
    "# plt.savefig(\"graph.png\")\n",
    "plt.show()"
   ]
  },
  {
   "cell_type": "code",
   "execution_count": 53,
   "metadata": {},
   "outputs": [
    {
     "name": "stdout",
     "output_type": "stream",
     "text": [
      "(0.8578535891968728, 0.7917555081734187, 0.8102345415778252, 0.8621179815209666, 0.8464818763326226, 0.7213930348258707)\n"
     ]
    }
   ],
   "source": [
    "print(class_score)"
   ]
  }
 ],
 "metadata": {
  "kernelspec": {
   "display_name": "Python 3.10.7 64-bit (microsoft store)",
   "language": "python",
   "name": "python3"
  },
  "language_info": {
   "codemirror_mode": {
    "name": "ipython",
    "version": 3
   },
   "file_extension": ".py",
   "mimetype": "text/x-python",
   "name": "python",
   "nbconvert_exporter": "python",
   "pygments_lexer": "ipython3",
   "version": "3.10.8"
  },
  "orig_nbformat": 4,
  "vscode": {
   "interpreter": {
    "hash": "1ba8ddd67eb72f666e9ed24e7ce7d0418c15b0cfb7e00f500f6fe4ad37231218"
   }
  }
 },
 "nbformat": 4,
 "nbformat_minor": 2
}
